{
  "nbformat": 4,
  "nbformat_minor": 0,
  "metadata": {
    "colab": {
      "name": "cs480_fall20_asst5_char_rnn_generation.ipynb",
      "provenance": []
    },
    "language_info": {
      "codemirror_mode": {
        "name": "ipython",
        "version": 3
      },
      "file_extension": ".py",
      "mimetype": "text/x-python",
      "name": "python",
      "nbconvert_exporter": "python",
      "pygments_lexer": "ipython3",
      "version": "3.6.6"
    },
    "kernelspec": {
      "name": "python3",
      "display_name": "Python 3"
    }
  },
  "cells": [
    {
      "cell_type": "markdown",
      "metadata": {
        "id": "SjndRzjVTDSx"
      },
      "source": [
        "Download data"
      ]
    },
    {
      "cell_type": "code",
      "metadata": {
        "id": "HeeD4VZ0TBm9",
        "outputId": "8dfcc0d4-0902-4572-ce18-11e0003ec67b",
        "colab": {
          "base_uri": "https://localhost:8080/"
        }
      },
      "source": [
        "!wget https://download.pytorch.org/tutorial/data.zip\n",
        "!unzip data.zip\n",
        "!ls"
      ],
      "execution_count": 1,
      "outputs": [
        {
          "output_type": "stream",
          "text": [
            "--2020-11-09 00:38:10--  https://download.pytorch.org/tutorial/data.zip\n",
            "Resolving download.pytorch.org (download.pytorch.org)... 13.226.49.80, 13.226.49.84, 13.226.49.83, ...\n",
            "Connecting to download.pytorch.org (download.pytorch.org)|13.226.49.80|:443... connected.\n",
            "HTTP request sent, awaiting response... 200 OK\n",
            "Length: 2882130 (2.7M) [application/zip]\n",
            "Saving to: ‘data.zip’\n",
            "\n",
            "data.zip            100%[===================>]   2.75M  15.8MB/s    in 0.2s    \n",
            "\n",
            "2020-11-09 00:38:11 (15.8 MB/s) - ‘data.zip’ saved [2882130/2882130]\n",
            "\n",
            "Archive:  data.zip\n",
            "   creating: data/\n",
            "  inflating: data/eng-fra.txt        \n",
            "   creating: data/names/\n",
            "  inflating: data/names/Arabic.txt   \n",
            "  inflating: data/names/Chinese.txt  \n",
            "  inflating: data/names/Czech.txt    \n",
            "  inflating: data/names/Dutch.txt    \n",
            "  inflating: data/names/English.txt  \n",
            "  inflating: data/names/French.txt   \n",
            "  inflating: data/names/German.txt   \n",
            "  inflating: data/names/Greek.txt    \n",
            "  inflating: data/names/Irish.txt    \n",
            "  inflating: data/names/Italian.txt  \n",
            "  inflating: data/names/Japanese.txt  \n",
            "  inflating: data/names/Korean.txt   \n",
            "  inflating: data/names/Polish.txt   \n",
            "  inflating: data/names/Portuguese.txt  \n",
            "  inflating: data/names/Russian.txt  \n",
            "  inflating: data/names/Scottish.txt  \n",
            "  inflating: data/names/Spanish.txt  \n",
            "  inflating: data/names/Vietnamese.txt  \n",
            "data  data.zip\tsample_data\n"
          ],
          "name": "stdout"
        }
      ]
    },
    {
      "cell_type": "code",
      "metadata": {
        "id": "4tSGA3X6dURt"
      },
      "source": [
        "%matplotlib inline"
      ],
      "execution_count": 100,
      "outputs": []
    },
    {
      "cell_type": "markdown",
      "metadata": {
        "id": "MRMSa-PEdURy"
      },
      "source": [
        "\n",
        "Generating Names with a Character-Level RNN\n",
        "*******************************************\n",
        "**Author**: `Sean Robertson <https://github.com/spro/practical-pytorch>`_\n",
        "\n",
        "In the :doc:`last tutorial </intermediate/char_rnn_classification_tutorial>`\n",
        "we used a RNN to classify names into their language of origin. This time\n",
        "we'll turn around and generate names from languages.\n",
        "\n",
        "::\n",
        "\n",
        "    > python sample.py Russian RUS\n",
        "    Rovakov\n",
        "    Uantov\n",
        "    Shavakov\n",
        "\n",
        "    > python sample.py German GER\n",
        "    Gerren\n",
        "    Ereng\n",
        "    Rosher\n",
        "\n",
        "    > python sample.py Spanish SPA\n",
        "    Salla\n",
        "    Parer\n",
        "    Allan\n",
        "\n",
        "    > python sample.py Chinese CHI\n",
        "    Chan\n",
        "    Hang\n",
        "    Iun\n",
        "\n",
        "We are still hand-crafting a small RNN with a few linear layers. The big\n",
        "difference is instead of predicting a category after reading in all the\n",
        "letters of a name, we input a category and output one letter at a time.\n",
        "Recurrently predicting characters to form language (this could also be\n",
        "done with words or other higher order constructs) is often referred to\n",
        "as a \"language model\".\n",
        "\n",
        "**Recommended Reading:**\n",
        "\n",
        "I assume you have at least installed PyTorch, know Python, and\n",
        "understand Tensors:\n",
        "\n",
        "-  http://pytorch.org/ For installation instructions\n",
        "-  :doc:`/beginner/deep_learning_60min_blitz` to get started with PyTorch in general\n",
        "-  :doc:`/beginner/pytorch_with_examples` for a wide and deep overview\n",
        "-  :doc:`/beginner/former_torchies_tutorial` if you are former Lua Torch user\n",
        "\n",
        "It would also be useful to know about RNNs and how they work:\n",
        "\n",
        "-  `The Unreasonable Effectiveness of Recurrent Neural\n",
        "   Networks <http://karpathy.github.io/2015/05/21/rnn-effectiveness/>`__\n",
        "   shows a bunch of real life examples\n",
        "-  `Understanding LSTM\n",
        "   Networks <http://colah.github.io/posts/2015-08-Understanding-LSTMs/>`__\n",
        "   is about LSTMs specifically but also informative about RNNs in\n",
        "   general\n",
        "\n",
        "I also suggest the previous tutorial, :doc:`/intermediate/char_rnn_classification_tutorial`\n",
        "\n",
        "\n",
        "Preparing the Data\n",
        "==================\n",
        "\n",
        ".. Note::\n",
        "   Download the data from\n",
        "   `here <https://download.pytorch.org/tutorial/data.zip>`_\n",
        "   and extract it to the current directory.\n",
        "\n",
        "See the last tutorial for more detail of this process. In short, there\n",
        "are a bunch of plain text files ``data/names/[Language].txt`` with a\n",
        "name per line. We split lines into an array, convert Unicode to ASCII,\n",
        "and end up with a dictionary ``{language: [names ...]}``.\n",
        "\n",
        "\n"
      ]
    },
    {
      "cell_type": "code",
      "metadata": {
        "id": "yivWZ-QrdURz",
        "outputId": "219ecebf-db45-4c99-fc75-08f31446cdff",
        "colab": {
          "base_uri": "https://localhost:8080/"
        }
      },
      "source": [
        "from __future__ import unicode_literals, print_function, division\n",
        "from io import open\n",
        "import glob\n",
        "import os\n",
        "import unicodedata\n",
        "import string\n",
        "import math\n",
        "import random\n",
        "\n",
        "all_letters = string.ascii_letters + \" .,;'-\"\n",
        "n_letters = len(all_letters) + 1 # Plus EOS marker\n",
        "\n",
        "def findFiles(path): return glob.glob(path)\n",
        "\n",
        "# Turn a Unicode string to plain ASCII, thanks to http://stackoverflow.com/a/518232/2809427\n",
        "def unicodeToAscii(s):\n",
        "    return ''.join(\n",
        "        c for c in unicodedata.normalize('NFD', s)\n",
        "        if unicodedata.category(c) != 'Mn'\n",
        "        and c in all_letters\n",
        "    )\n",
        "\n",
        "# Read a file and split into lines\n",
        "def readLines(filename):\n",
        "    lines = open(filename, encoding='utf-8').read().strip().split('\\n')\n",
        "    return [unicodeToAscii(line) for line in lines]\n",
        "\n",
        "# Build the category_lines dictionary, a list of lines per category\n",
        "category_lines = {}\n",
        "train_data = {}\n",
        "validation_data = {}\n",
        "test_data = {}\n",
        "all_categories = []\n",
        "for filename in findFiles('data/names/*.txt'):\n",
        "    category = os.path.splitext(os.path.basename(filename))[0]\n",
        "    all_categories.append(category)\n",
        "    lines = readLines(filename)\n",
        "    random.shuffle(lines)\n",
        "    train_data[category] = lines[0:int(math.floor(0.7*len(lines)))]\n",
        "    validation_data[category] = lines[int(math.floor(0.7*len(lines)))+1:int(math.floor(0.85*len(lines)))]\n",
        "    test_data[category] = lines[int(math.floor(0.85*len(lines)))+1:]\n",
        "    category_lines[category] = lines\n",
        "\n",
        "n_categories = len(all_categories)\n",
        "\n",
        "if n_categories == 0:\n",
        "    raise RuntimeError('Data not found. Make sure that you downloaded data '\n",
        "        'from https://download.pytorch.org/tutorial/data.zip and extract it to '\n",
        "        'the current directory.')\n",
        "\n",
        "print('# categories:', n_categories, all_categories)\n",
        "print(unicodeToAscii(\"O'Néàl\"))"
      ],
      "execution_count": 101,
      "outputs": [
        {
          "output_type": "stream",
          "text": [
            "# categories: 18 ['Arabic', 'Greek', 'Korean', 'Italian', 'Polish', 'Vietnamese', 'Portuguese', 'Japanese', 'German', 'Irish', 'French', 'Russian', 'Czech', 'English', 'Scottish', 'Spanish', 'Dutch', 'Chinese']\n",
            "O'Neal\n"
          ],
          "name": "stdout"
        }
      ]
    },
    {
      "cell_type": "markdown",
      "metadata": {
        "id": "MlY6De-4dUR1"
      },
      "source": [
        "Creating the Network\n",
        "====================\n",
        "\n",
        "This network extends `the last tutorial's RNN <#Creating-the-Network>`__\n",
        "with an extra argument for the category tensor, which is concatenated\n",
        "along with the others. The category tensor is a one-hot vector just like\n",
        "the letter input.\n",
        "\n",
        "We will interpret the output as the probability of the next letter. When\n",
        "sampling, the most likely output letter is used as the next input\n",
        "letter.\n",
        "\n",
        "I added a second linear layer ``o2o`` (after combining hidden and\n",
        "output) to give it more muscle to work with. There's also a dropout\n",
        "layer, which `randomly zeros parts of its\n",
        "input <https://arxiv.org/abs/1207.0580>`__ with a given probability\n",
        "(here 0.1) and is usually used to fuzz inputs to prevent overfitting.\n",
        "Here we're using it towards the end of the network to purposely add some\n",
        "chaos and increase sampling variety.\n",
        "\n",
        ".. figure:: https://i.imgur.com/jzVrf7f.png\n",
        "   :alt:\n",
        "\n",
        "\n",
        "\n"
      ]
    },
    {
      "cell_type": "code",
      "metadata": {
        "id": "B3Y0aicRdUR2"
      },
      "source": [
        "import torch\n",
        "import torch.nn as nn\n",
        "from torch.autograd import Variable\n",
        "\n",
        "class RNN(nn.Module):\n",
        "    def __init__(self, input_size, hidden_size, output_size):\n",
        "        super(RNN, self).__init__()\n",
        "        self.hidden_size = hidden_size\n",
        "\n",
        "        self.i2h = nn.Linear(n_categories + input_size + hidden_size, hidden_size)\n",
        "        self.i2o = nn.Linear(n_categories + input_size + hidden_size, output_size)\n",
        "        self.o2o = nn.Linear(hidden_size + output_size, output_size)\n",
        "        self.dropout = nn.Dropout(0.1)\n",
        "        self.softmax = nn.LogSoftmax(dim=1)\n",
        "\n",
        "    def forward(self, category, input, hidden):\n",
        "        input_combined = torch.cat((category, input, hidden), 1)\n",
        "        hidden = self.i2h(input_combined)\n",
        "        output = self.i2o(input_combined)\n",
        "        output_combined = torch.cat((hidden, output), 1)\n",
        "        output = self.o2o(output_combined)\n",
        "        output = self.dropout(output)\n",
        "        output = self.softmax(output)\n",
        "        return output, hidden\n",
        "\n",
        "    def initHidden(self):\n",
        "        return torch.zeros(1, self.hidden_size)"
      ],
      "execution_count": 102,
      "outputs": []
    },
    {
      "cell_type": "code",
      "metadata": {
        "id": "opLV6usvcLhV"
      },
      "source": [
        "import torch\n",
        "import torch.nn as nn\n",
        "from torch.autograd import Variable\n",
        "\n",
        "class RNN2(nn.Module):\n",
        "    def __init__(self, input_size, hidden_size, output_size):\n",
        "        super(RNN2, self).__init__()\n",
        "        self.hidden_size = hidden_size\n",
        "\n",
        "        self.i2h = nn.Linear(n_categories+input_size + hidden_size, hidden_size)\n",
        "        self.i2o = nn.Linear(n_categories+input_size + hidden_size, output_size)\n",
        "        self.o2o = nn.Linear(hidden_size + output_size, output_size)\n",
        "        self.dropout = nn.Dropout(0.1)\n",
        "        self.softmax = nn.LogSoftmax(dim=1)\n",
        "\n",
        "    def forward(self,category, input, hidden,first_iteration):\n",
        "        if(not(first_iteration)):\n",
        "            category=torch.zeros(1, n_categories)\n",
        "      \n",
        "        input_combined = torch.cat((category,input, hidden), 1)\n",
        "        hidden = self.i2h(input_combined)\n",
        "        output = self.i2o(input_combined)\n",
        "        output_combined = torch.cat((hidden, output), 1)\n",
        "        output = self.o2o(output_combined)\n",
        "        output = self.dropout(output)\n",
        "        output = self.softmax(output)\n",
        "        return output, hidden\n",
        "\n",
        "    def initHidden(self):\n",
        "        return torch.zeros(1, self.hidden_size)"
      ],
      "execution_count": 103,
      "outputs": []
    },
    {
      "cell_type": "code",
      "metadata": {
        "id": "MyqeF155jH79"
      },
      "source": [
        "import torch\n",
        "import torch.nn as nn\n",
        "from torch.autograd import Variable\n",
        "\n",
        "class RNN3(nn.Module):\n",
        "    def __init__(self, input_size, hidden_size, output_size):\n",
        "        super(RNN3, self).__init__()\n",
        "        self.hidden_size = hidden_size\n",
        "\n",
        "        self.i2h = nn.Linear(n_categories +  hidden_size, hidden_size)\n",
        "        self.i2o = nn.Linear(n_categories +  hidden_size, output_size)\n",
        "        self.o2o = nn.Linear(hidden_size + output_size, output_size)\n",
        "        self.dropout = nn.Dropout(0.1)\n",
        "        self.softmax = nn.LogSoftmax(dim=1)\n",
        "\n",
        "    def forward(self, category, hidden):\n",
        "        input_combined = torch.cat((category,  hidden), 1)\n",
        "        hidden = self.i2h(input_combined)\n",
        "        output = self.i2o(input_combined)\n",
        "        output_combined = torch.cat((hidden, output), 1)\n",
        "        output = self.o2o(output_combined)\n",
        "        output = self.dropout(output)\n",
        "        output = self.softmax(output)\n",
        "        return output, hidden\n",
        "\n",
        "    def initHidden(self):\n",
        "        return torch.zeros(1, self.hidden_size)"
      ],
      "execution_count": 104,
      "outputs": []
    },
    {
      "cell_type": "code",
      "metadata": {
        "id": "W8cCB1JZlvkS"
      },
      "source": [
        "import torch\n",
        "import torch.nn as nn\n",
        "from torch.autograd import Variable\n",
        "\n",
        "class RNN4(nn.Module):\n",
        "    def __init__(self, input_size, hidden_size, output_size):\n",
        "        super(RNN4, self).__init__()\n",
        "        self.hidden_size = hidden_size\n",
        "\n",
        "        self.i2h = nn.Linear(n_categories +  hidden_size, hidden_size)\n",
        "        self.i2o = nn.Linear(n_categories +  hidden_size, output_size)\n",
        "        self.o2o = nn.Linear(hidden_size + output_size, output_size)\n",
        "        self.dropout = nn.Dropout(0.1)\n",
        "        self.softmax = nn.LogSoftmax(dim=1)\n",
        "\n",
        "    def forward(self, category,hidden,first_iteration):\n",
        "        if(not(first_iteration)):\n",
        "            category=torch.zeros(1, n_categories)\n",
        "            \n",
        "        input_combined = torch.cat((category, hidden), 1)\n",
        "        hidden = self.i2h(input_combined)\n",
        "        output = self.i2o(input_combined)\n",
        "        output_combined = torch.cat((hidden, output), 1)\n",
        "        output = self.o2o(output_combined)\n",
        "        output = self.dropout(output)\n",
        "        output = self.softmax(output)\n",
        "        return output, hidden\n",
        "\n",
        "    def initHidden(self):\n",
        "        return torch.zeros(1, self.hidden_size)"
      ],
      "execution_count": 105,
      "outputs": []
    },
    {
      "cell_type": "markdown",
      "metadata": {
        "id": "-f_zTkMSdUR4"
      },
      "source": [
        "Training\n",
        "=========\n",
        "Preparing for Training\n",
        "----------------------\n",
        "\n",
        "First of all, helper functions to get random pairs of (category, line):\n",
        "\n",
        "\n"
      ]
    },
    {
      "cell_type": "code",
      "metadata": {
        "id": "mJ4453vLdUR5"
      },
      "source": [
        "import random\n",
        "\n",
        "# Random item from a list\n",
        "def randomChoice(l):\n",
        "    return l[random.randint(0, len(l) - 1)]\n",
        "\n",
        "# Get a random category and random line from that category\n",
        "def randomTrainingPair():\n",
        "    category = randomChoice(all_categories)\n",
        "    line = randomChoice(train_data[category])\n",
        "    return category, line"
      ],
      "execution_count": 106,
      "outputs": []
    },
    {
      "cell_type": "markdown",
      "metadata": {
        "id": "9l7cNuyJdUR7"
      },
      "source": [
        "For each timestep (that is, for each letter in a training word) the\n",
        "inputs of the network will be\n",
        "``(category, current letter, hidden state)`` and the outputs will be\n",
        "``(next letter, next hidden state)``. So for each training set, we'll\n",
        "need the category, a set of input letters, and a set of output/target\n",
        "letters.\n",
        "\n",
        "Since we are predicting the next letter from the current letter for each\n",
        "timestep, the letter pairs are groups of consecutive letters from the\n",
        "line - e.g. for ``\"ABCD<EOS>\"`` we would create (\"A\", \"B\"), (\"B\", \"C\"),\n",
        "(\"C\", \"D\"), (\"D\", \"EOS\").\n",
        "\n",
        ".. figure:: https://i.imgur.com/JH58tXY.png\n",
        "   :alt:\n",
        "\n",
        "The category tensor is a `one-hot\n",
        "tensor <https://en.wikipedia.org/wiki/One-hot>`__ of size\n",
        "``<1 x n_categories>``. When training we feed it to the network at every\n",
        "timestep - this is a design choice, it could have been included as part\n",
        "of initial hidden state or some other strategy.\n",
        "\n",
        "\n"
      ]
    },
    {
      "cell_type": "code",
      "metadata": {
        "id": "XiLZFiyddUR7"
      },
      "source": [
        "# One-hot vector for category\n",
        "def categoryTensor(category):\n",
        "    li = all_categories.index(category)\n",
        "    tensor = torch.zeros(1, n_categories)\n",
        "    tensor[0][li] = 1\n",
        "    return tensor\n",
        "\n",
        "# One-hot matrix of first to last letters (not including EOS) for input\n",
        "def inputTensor(line):\n",
        "    tensor = torch.zeros(len(line), 1, n_letters)\n",
        "    for li in range(len(line)):\n",
        "        letter = line[li]\n",
        "        tensor[li][0][all_letters.find(letter)] = 1\n",
        "    return tensor\n",
        "\n",
        "# LongTensor of second letter to end (EOS) for target\n",
        "def targetTensor(line):\n",
        "    letter_indexes = [all_letters.find(line[li]) for li in range(1, len(line))]\n",
        "    letter_indexes.append(n_letters - 1) # EOS\n",
        "    return torch.LongTensor(letter_indexes)"
      ],
      "execution_count": 107,
      "outputs": []
    },
    {
      "cell_type": "markdown",
      "metadata": {
        "id": "SlrGrMi0dUR-"
      },
      "source": [
        "For convenience during training we'll make a ``randomTrainingExample``\n",
        "function that fetches a random (category, line) pair and turns them into\n",
        "the required (category, input, target) tensors.\n",
        "\n",
        "\n"
      ]
    },
    {
      "cell_type": "code",
      "metadata": {
        "id": "G8WKEzgLdUR_"
      },
      "source": [
        "# Make category, input, and target tensors from a random category, line pair\n",
        "def randomTrainingExample():\n",
        "    category, line = randomTrainingPair()\n",
        "    category_tensor = categoryTensor(category)\n",
        "    input_line_tensor = inputTensor(line)\n",
        "    target_line_tensor = targetTensor(line)\n",
        "    return category_tensor, input_line_tensor, target_line_tensor"
      ],
      "execution_count": 108,
      "outputs": []
    },
    {
      "cell_type": "markdown",
      "metadata": {
        "id": "AdFYtchcdUSB"
      },
      "source": [
        "Training the Network\n",
        "--------------------\n",
        "\n",
        "In contrast to classification, where only the last output is used, we\n",
        "are making a prediction at every step, so we are calculating loss at\n",
        "every step.\n",
        "\n",
        "The magic of autograd allows you to simply sum these losses at each step\n",
        "and call backward at the end.\n",
        "\n",
        "\n"
      ]
    },
    {
      "cell_type": "code",
      "metadata": {
        "id": "a9WcN0iMdUSB"
      },
      "source": [
        "criterion = nn.NLLLoss()\n",
        "\n",
        "def train(category_tensor, input_line_tensor, target_line_tensor):\n",
        "    target_line_tensor.unsqueeze_(-1)\n",
        "    hidden = rnn.initHidden()\n",
        "\n",
        "    rnn.zero_grad()\n",
        "\n",
        "    loss = 0\n",
        "\n",
        "    for i in range(input_line_tensor.size(0)):\n",
        "        output, hidden = rnn(category_tensor, input_line_tensor[i], hidden)\n",
        "        l = criterion(output, target_line_tensor[i])\n",
        "        loss += l\n",
        "\n",
        "    # compute the gradient by backpropagation\n",
        "    loss.backward()\n",
        "\n",
        "    # update the parameters\n",
        "    optimizer.step()\n",
        "\n",
        "    return output, loss.item() / input_line_tensor.size(0)"
      ],
      "execution_count": 110,
      "outputs": []
    },
    {
      "cell_type": "code",
      "metadata": {
        "id": "cU_0eGysgDaa"
      },
      "source": [
        "criterion2 = nn.NLLLoss()\n",
        "\n",
        "def train2(category_tensor, input_line_tensor, target_line_tensor):\n",
        "    target_line_tensor.unsqueeze_(-1)\n",
        "    hidden = rnn.initHidden()\n",
        "\n",
        "    rnn2.zero_grad()\n",
        "\n",
        "    loss = 0\n",
        "\n",
        "    for i in range(input_line_tensor.size(0)):\n",
        "       \n",
        "        if(i==0):\n",
        "          output, hidden = rnn2(category_tensor, input_line_tensor[i], hidden,first_iteration=True)\n",
        "             \n",
        "        else:\n",
        "          \n",
        "          output, hidden = rnn2(category_tensor, input_line_tensor[i], hidden,first_iteration=False)\n",
        "        l = criterion2(output, target_line_tensor[i])\n",
        "        loss += l\n",
        "\n",
        "    # compute the gradient by backpropagation\n",
        "    loss.backward()\n",
        "\n",
        "    # update the parameters\n",
        "    optimizer2.step()\n",
        "\n",
        "    return output, loss.item() / input_line_tensor.size(0)"
      ],
      "execution_count": 111,
      "outputs": []
    },
    {
      "cell_type": "code",
      "metadata": {
        "id": "k1mk5MP8kEPZ"
      },
      "source": [
        "criterion3 = nn.NLLLoss()\n",
        "\n",
        "def train3(category_tensor, input_line_tensor, target_line_tensor):\n",
        "    target_line_tensor.unsqueeze_(-1)\n",
        "    hidden = rnn3.initHidden()\n",
        "\n",
        "    rnn3.zero_grad()\n",
        "\n",
        "    loss = 0\n",
        "\n",
        "    for i in range(input_line_tensor.size(0)):\n",
        "        output, hidden = rnn3(category_tensor, hidden)\n",
        "        l = criterion3(output, target_line_tensor[i])\n",
        "        loss += l\n",
        "\n",
        "    # compute the gradient by backpropagation\n",
        "    loss.backward()\n",
        "\n",
        "    # update the parameters\n",
        "    optimizer3.step()\n",
        "\n",
        "    return output, loss.item() / input_line_tensor.size(0)"
      ],
      "execution_count": 112,
      "outputs": []
    },
    {
      "cell_type": "code",
      "metadata": {
        "id": "z6ngr-k5ort9"
      },
      "source": [
        "criterion4 = nn.NLLLoss()\n",
        "\n",
        "def train4(category_tensor, input_line_tensor, target_line_tensor):\n",
        "    target_line_tensor.unsqueeze_(-1)\n",
        "    hidden = rnn4.initHidden()\n",
        "\n",
        "    rnn4.zero_grad()\n",
        "\n",
        "    loss = 0\n",
        "\n",
        "    for i in range(input_line_tensor.size(0)):\n",
        "        if(i==0):\n",
        "          output, hidden = rnn4(category_tensor, hidden,True)\n",
        "        else:\n",
        "          output, hidden = rnn4(category_tensor, hidden,False)\n",
        "        l = criterion4(output, target_line_tensor[i])\n",
        "        loss += l\n",
        "\n",
        "    # compute the gradient by backpropagation\n",
        "    loss.backward()\n",
        "\n",
        "    # update the parameters\n",
        "    optimizer4.step()\n",
        "\n",
        "    return output, loss.item() / input_line_tensor.size(0)"
      ],
      "execution_count": 113,
      "outputs": []
    },
    {
      "cell_type": "code",
      "metadata": {
        "id": "OAiGAZkjkcxZ"
      },
      "source": [
        ""
      ],
      "execution_count": 89,
      "outputs": []
    },
    {
      "cell_type": "markdown",
      "metadata": {
        "id": "sxerzd5cdUSE"
      },
      "source": [
        "To keep track of how long training takes I am adding a\n",
        "``timeSince(timestamp)`` function which returns a human readable string:\n",
        "\n",
        "\n"
      ]
    },
    {
      "cell_type": "code",
      "metadata": {
        "id": "CgynvRVzdUSE"
      },
      "source": [
        "import time\n",
        "import math\n",
        "\n",
        "def timeSince(since):\n",
        "    now = time.time()\n",
        "    s = now - since\n",
        "    m = math.floor(s / 60)\n",
        "    s -= m * 60\n",
        "    return '%dm %ds' % (m, s)"
      ],
      "execution_count": 114,
      "outputs": []
    },
    {
      "cell_type": "markdown",
      "metadata": {
        "id": "7pLWH-5YdUSH"
      },
      "source": [
        "Training is business as usual - call train a bunch of times and wait a\n",
        "few minutes, printing the current time and loss every ``print_every``\n",
        "examples, and keeping store of an average loss per ``plot_every`` examples\n",
        "in ``all_losses`` for plotting later.\n",
        "\n",
        "\n"
      ]
    },
    {
      "cell_type": "code",
      "metadata": {
        "id": "VpSLff2TdUSI",
        "outputId": "2f3166c1-6aed-4f75-db77-d42e7249fa66",
        "colab": {
          "base_uri": "https://localhost:8080/"
        }
      },
      "source": [
        "rnn = RNN(n_letters, 128, n_letters)\n",
        "optimizer = torch.optim.Adam(rnn.parameters())\n",
        "\n",
        "\n",
        "n_iters = 40000\n",
        "print_every = 2500\n",
        "plot_every = 500\n",
        "all_train_losses = []\n",
        "all_validation_losses = []\n",
        "train_loss = 0 # Reset every plot_every iters\n",
        "\n",
        "# Just return an output given a line\n",
        "def evaluate(category_tensor, input_line_tensor, target_line_tensor):\n",
        "    target_line_tensor.unsqueeze_(-1)\n",
        "    hidden = rnn.initHidden()\n",
        "    loss = 0\n",
        "    for i in range(input_line_tensor.size()[0]):\n",
        "        output, hidden = rnn(category_tensor, input_line_tensor[i], hidden)\n",
        "        loss += criterion(output, target_line_tensor[i])\n",
        "    return output, loss.item() / input_line_tensor.size(0)\n",
        "\n",
        "def eval_dataset(dataset):\n",
        "    total_loss = 0\n",
        "    n_instances = 0\n",
        "    for category in all_categories:\n",
        "        category_tensor = Variable(categoryTensor(category))\n",
        "        n_instances += len(dataset[category])\n",
        "        for line in dataset[category]:\n",
        "            input_line_tensor = Variable(inputTensor(line))\n",
        "            target_line_tensor = Variable(targetTensor(line))\n",
        "            output, loss = evaluate(category_tensor, input_line_tensor, target_line_tensor)\n",
        "            total_loss += loss\n",
        "    return total_loss / n_instances\n",
        "\n",
        "start = time.time()\n",
        "print('\\nIter \\tTrain% \\tTime \\t\\tTrain_loss')\n",
        "for iter in range(1, n_iters + 1):\n",
        "    output, loss = train(*randomTrainingExample())\n",
        "    train_loss += loss\n",
        "\n",
        "    if iter % print_every == 0:\n",
        "        print('%d \\t%d%% \\t(%s) \\t%.4f' % (iter, iter / n_iters * 100, timeSince(start), train_loss / plot_every))\n",
        "\n",
        "    if iter % plot_every == 0:\n",
        "        all_train_losses.append(train_loss / plot_every)\n",
        "        train_loss = 0\n",
        "        \n",
        "    # Compute loss based on validation data\n",
        "    if iter % plot_every == 0:\n",
        "        average_validation_loss = eval_dataset(validation_data)\n",
        "\n",
        "        # save model with best validation loss\n",
        "        if len(all_validation_losses) == 0 or average_validation_loss < min(all_validation_losses):\n",
        "            torch.save(rnn, 'char_rnn_generation_model.pt')\n",
        "        all_validation_losses.append(average_validation_loss)"
      ],
      "execution_count": 115,
      "outputs": [
        {
          "output_type": "stream",
          "text": [
            "\n",
            "Iter \tTrain% \tTime \t\tTrain_loss\n",
            "2500 \t6% \t(0m 35s) \t2.4090\n",
            "5000 \t12% \t(1m 16s) \t2.3598\n",
            "7500 \t18% \t(1m 57s) \t2.3032\n",
            "10000 \t25% \t(2m 38s) \t2.2926\n",
            "12500 \t31% \t(3m 21s) \t2.2720\n",
            "15000 \t37% \t(4m 2s) \t2.2303\n",
            "17500 \t43% \t(4m 43s) \t2.2499\n",
            "20000 \t50% \t(5m 24s) \t2.2346\n",
            "22500 \t56% \t(6m 6s) \t2.2205\n",
            "25000 \t62% \t(6m 47s) \t2.2275\n",
            "27500 \t68% \t(7m 28s) \t2.2187\n",
            "30000 \t75% \t(8m 8s) \t2.2249\n",
            "32500 \t81% \t(8m 48s) \t2.1882\n",
            "35000 \t87% \t(9m 28s) \t2.1766\n",
            "37500 \t93% \t(10m 9s) \t2.2152\n",
            "40000 \t100% \t(10m 49s) \t2.2492\n"
          ],
          "name": "stdout"
        }
      ]
    },
    {
      "cell_type": "code",
      "metadata": {
        "id": "LdU7_DyohFET",
        "outputId": "d6184500-9754-47b6-a050-1bc65d4f34cf",
        "colab": {
          "base_uri": "https://localhost:8080/"
        }
      },
      "source": [
        "rnn2 = RNN2(n_letters, 128, n_letters)\n",
        "optimizer2 = torch.optim.Adam(rnn2.parameters())\n",
        "\n",
        "\n",
        "n_iters = 40000\n",
        "print_every = 2500\n",
        "plot_every = 500\n",
        "all_train_losses2 = []\n",
        "all_validation_losses2 = []\n",
        "train_loss2 = 0 # Reset every plot_every iters\n",
        "\n",
        "# Just return an output given a line\n",
        "def evaluate2(category_tensor, input_line_tensor, target_line_tensor):\n",
        "    target_line_tensor.unsqueeze_(-1)\n",
        "    hidden = rnn2.initHidden()\n",
        "    loss = 0\n",
        "    for i in range(input_line_tensor.size()[0]):\n",
        "        if(i==0):\n",
        "            output, hidden = rnn2(category_tensor, input_line_tensor[i], hidden,True)\n",
        "        else:\n",
        "            output, hidden = rnn2(category_tensor, input_line_tensor[i], hidden,False)\n",
        "        loss += criterion2(output, target_line_tensor[i])\n",
        "    return output, loss.item() / input_line_tensor.size(0)\n",
        "\n",
        "def eval_dataset2(dataset):\n",
        "    total_loss = 0\n",
        "    n_instances = 0\n",
        "    for category in all_categories:\n",
        "        category_tensor = Variable(categoryTensor(category))\n",
        "        n_instances += len(dataset[category])\n",
        "        for line in dataset[category]:\n",
        "            input_line_tensor = Variable(inputTensor(line))\n",
        "            target_line_tensor = Variable(targetTensor(line))\n",
        "            output, loss = evaluate2(category_tensor, input_line_tensor, target_line_tensor)\n",
        "            total_loss += loss\n",
        "    return total_loss / n_instances\n",
        "\n",
        "start = time.time()\n",
        "print('\\nIter \\tTrain% \\tTime \\t\\tTrain_loss')\n",
        "for iter in range(1, n_iters + 1):\n",
        "    output, loss = train2(*randomTrainingExample())\n",
        "    train_loss2 += loss\n",
        "\n",
        "    if iter % print_every == 0:\n",
        "        print('%d \\t%d%% \\t(%s) \\t%.4f' % (iter, iter / n_iters * 100, timeSince(start), train_loss2 / plot_every))\n",
        "\n",
        "    if iter % plot_every == 0:\n",
        "        all_train_losses2.append(train_loss2 / plot_every)\n",
        "        train_loss2 = 0\n",
        "        \n",
        "    # Compute loss based on validation data\n",
        "    if iter % plot_every == 0:\n",
        "        average_validation_loss2 = eval_dataset2(validation_data)\n",
        "\n",
        "        # save model with best validation loss\n",
        "        if len(all_validation_losses2) == 0 or average_validation_loss2 < min(all_validation_losses2):\n",
        "            torch.save(rnn2, 'char_rnn_generation_model2.pt')\n",
        "        all_validation_losses2.append(average_validation_loss2)"
      ],
      "execution_count": 116,
      "outputs": [
        {
          "output_type": "stream",
          "text": [
            "\n",
            "Iter \tTrain% \tTime \t\tTrain_loss\n",
            "2500 \t6% \t(0m 36s) \t2.4786\n",
            "5000 \t12% \t(1m 18s) \t2.3661\n",
            "7500 \t18% \t(1m 59s) \t2.3841\n",
            "10000 \t25% \t(2m 40s) \t2.3028\n",
            "12500 \t31% \t(3m 22s) \t2.2850\n",
            "15000 \t37% \t(4m 4s) \t2.2525\n",
            "17500 \t43% \t(4m 45s) \t2.2464\n",
            "20000 \t50% \t(5m 26s) \t2.2062\n",
            "22500 \t56% \t(6m 8s) \t2.2323\n",
            "25000 \t62% \t(6m 49s) \t2.2636\n",
            "27500 \t68% \t(7m 34s) \t2.2080\n",
            "30000 \t75% \t(8m 16s) \t2.2130\n",
            "32500 \t81% \t(8m 57s) \t2.2400\n",
            "35000 \t87% \t(9m 38s) \t2.2089\n",
            "37500 \t93% \t(10m 19s) \t2.2049\n",
            "40000 \t100% \t(11m 2s) \t2.1944\n"
          ],
          "name": "stdout"
        }
      ]
    },
    {
      "cell_type": "code",
      "metadata": {
        "id": "_MMfrhIakfHw",
        "outputId": "d7453f8c-13de-47f8-c589-2b8401785890",
        "colab": {
          "base_uri": "https://localhost:8080/"
        }
      },
      "source": [
        "rnn3 = RNN3(n_letters, 128, n_letters)\n",
        "optimizer3 = torch.optim.Adam(rnn3.parameters())\n",
        "\n",
        "\n",
        "n_iters = 40000\n",
        "print_every = 2500\n",
        "plot_every = 500\n",
        "all_train_losses3 = []\n",
        "all_validation_losses3 = []\n",
        "train_loss3 = 0 # Reset every plot_every iters\n",
        "\n",
        "# Just return an output given a line\n",
        "def evaluate3(category_tensor, input_line_tensor, target_line_tensor):\n",
        "    target_line_tensor.unsqueeze_(-1)\n",
        "    hidden = rnn3.initHidden()\n",
        "    loss = 0\n",
        "    for i in range(input_line_tensor.size()[0]):\n",
        "        output, hidden = rnn3(category_tensor, hidden)\n",
        "        loss += criterion3(output, target_line_tensor[i])\n",
        "    return output, loss.item() / input_line_tensor.size(0)\n",
        "\n",
        "def eval_dataset3(dataset):\n",
        "    total_loss = 0\n",
        "    n_instances = 0\n",
        "    for category in all_categories:\n",
        "        category_tensor = Variable(categoryTensor(category))\n",
        "        n_instances += len(dataset[category])\n",
        "        for line in dataset[category]:\n",
        "            input_line_tensor = Variable(inputTensor(line))\n",
        "            target_line_tensor = Variable(targetTensor(line))\n",
        "            output, loss = evaluate3(category_tensor, input_line_tensor, target_line_tensor)\n",
        "            total_loss += loss\n",
        "    return total_loss / n_instances\n",
        "\n",
        "start = time.time()\n",
        "print('\\nIter \\tTrain% \\tTime \\t\\tTrain_loss')\n",
        "for iter in range(1, n_iters + 1):\n",
        "    output, loss = train3(*randomTrainingExample())\n",
        "    train_loss3 += loss\n",
        "\n",
        "    if iter % print_every == 0:\n",
        "        print('%d \\t%d%% \\t(%s) \\t%.4f' % (iter, iter / n_iters * 100, timeSince(start), train_loss3 / plot_every))\n",
        "\n",
        "    if iter % plot_every == 0:\n",
        "        all_train_losses3.append(train_loss3 / plot_every)\n",
        "        train_loss3 = 0\n",
        "        \n",
        "    # Compute loss based on validation data\n",
        "    if iter % plot_every == 0:\n",
        "        average_validation_loss3 = eval_dataset3(validation_data)\n",
        "\n",
        "        # save model with best validation loss\n",
        "        if len(all_validation_losses3) == 0 or average_validation_loss3 < min(all_validation_losses3):\n",
        "            torch.save(rnn3, 'char_rnn_generation_model3.pt')\n",
        "        all_validation_losses3.append(average_validation_loss3)"
      ],
      "execution_count": 117,
      "outputs": [
        {
          "output_type": "stream",
          "text": [
            "\n",
            "Iter \tTrain% \tTime \t\tTrain_loss\n",
            "2500 \t6% \t(0m 32s) \t2.7113\n",
            "5000 \t12% \t(1m 10s) \t2.6574\n",
            "7500 \t18% \t(1m 48s) \t2.6111\n",
            "10000 \t25% \t(2m 27s) \t2.6305\n",
            "12500 \t31% \t(3m 5s) \t2.6376\n",
            "15000 \t37% \t(3m 44s) \t2.6296\n",
            "17500 \t43% \t(4m 24s) \t2.6386\n",
            "20000 \t50% \t(5m 5s) \t2.5927\n",
            "22500 \t56% \t(5m 45s) \t2.6166\n",
            "25000 \t62% \t(6m 24s) \t2.6311\n",
            "27500 \t68% \t(7m 3s) \t2.6178\n",
            "30000 \t75% \t(7m 42s) \t2.6186\n",
            "32500 \t81% \t(8m 21s) \t2.6226\n",
            "35000 \t87% \t(9m 0s) \t2.5982\n",
            "37500 \t93% \t(9m 39s) \t2.6097\n",
            "40000 \t100% \t(10m 19s) \t2.6167\n"
          ],
          "name": "stdout"
        }
      ]
    },
    {
      "cell_type": "code",
      "metadata": {
        "id": "vj0njlWwpI5K",
        "outputId": "c29e4358-be1b-416c-b7fa-7f738782d45f",
        "colab": {
          "base_uri": "https://localhost:8080/"
        }
      },
      "source": [
        "rnn4 = RNN4(n_letters, 128, n_letters)\n",
        "optimizer4 = torch.optim.Adam(rnn4.parameters())\n",
        "\n",
        "\n",
        "n_iters = 40000\n",
        "print_every = 2500\n",
        "plot_every = 500\n",
        "all_train_losses4 = []\n",
        "all_validation_losses4 = []\n",
        "train_loss4 = 0 # Reset every plot_every iters\n",
        "\n",
        "# Just return an output given a line\n",
        "def evaluate4(category_tensor, input_line_tensor, target_line_tensor):\n",
        "    target_line_tensor.unsqueeze_(-1)\n",
        "    hidden = rnn4.initHidden()\n",
        "    loss = 0\n",
        "    for i in range(input_line_tensor.size()[0]):\n",
        "        if(i==0):\n",
        "            output, hidden = rnn4(category_tensor, hidden,True)\n",
        "        else:\n",
        "            output, hidden = rnn4(category_tensor,  hidden,False)\n",
        "        loss += criterion4(output, target_line_tensor[i])\n",
        "    return output, loss.item() / input_line_tensor.size(0)\n",
        "\n",
        "def eval_dataset4(dataset):\n",
        "    total_loss = 0\n",
        "    n_instances = 0\n",
        "    for category in all_categories:\n",
        "        category_tensor = Variable(categoryTensor(category))\n",
        "        n_instances += len(dataset[category])\n",
        "        for line in dataset[category]:\n",
        "            input_line_tensor = Variable(inputTensor(line))\n",
        "            target_line_tensor = Variable(targetTensor(line))\n",
        "            output, loss = evaluate4(category_tensor, input_line_tensor, target_line_tensor)\n",
        "            total_loss += loss\n",
        "    return total_loss / n_instances\n",
        "\n",
        "start = time.time()\n",
        "print('\\nIter \\tTrain% \\tTime \\t\\tTrain_loss')\n",
        "for iter in range(1, n_iters + 1):\n",
        "    output, loss = train4(*randomTrainingExample())\n",
        "    train_loss4 += loss\n",
        "\n",
        "    if iter % print_every == 0:\n",
        "        print('%d \\t%d%% \\t(%s) \\t%.4f' % (iter, iter / n_iters * 100, timeSince(start), train_loss4 / plot_every))\n",
        "\n",
        "    if iter % plot_every == 0:\n",
        "        all_train_losses4.append(train_loss4 / plot_every)\n",
        "        train_loss4 = 0\n",
        "        \n",
        "    # Compute loss based on validation data\n",
        "    if iter % plot_every == 0:\n",
        "        average_validation_loss4 = eval_dataset4(validation_data)\n",
        "\n",
        "        # save model with best validation loss\n",
        "        if len(all_validation_losses4) == 0 or average_validation_loss4 < min(all_validation_losses4):\n",
        "            torch.save(rnn4, 'char_rnn_generation_model4.pt')\n",
        "        all_validation_losses4.append(average_validation_loss4)"
      ],
      "execution_count": 118,
      "outputs": [
        {
          "output_type": "stream",
          "text": [
            "\n",
            "Iter \tTrain% \tTime \t\tTrain_loss\n",
            "2500 \t6% \t(0m 35s) \t2.7558\n",
            "5000 \t12% \t(1m 15s) \t2.7225\n",
            "7500 \t18% \t(1m 56s) \t2.6575\n",
            "10000 \t25% \t(2m 36s) \t2.6498\n",
            "12500 \t31% \t(3m 17s) \t2.6760\n",
            "15000 \t37% \t(3m 57s) \t2.6496\n",
            "17500 \t43% \t(4m 38s) \t2.6374\n",
            "20000 \t50% \t(5m 19s) \t2.6136\n",
            "22500 \t56% \t(6m 0s) \t2.6609\n",
            "25000 \t62% \t(6m 40s) \t2.6325\n",
            "27500 \t68% \t(7m 21s) \t2.5955\n",
            "30000 \t75% \t(8m 1s) \t2.6063\n",
            "32500 \t81% \t(8m 41s) \t2.6142\n",
            "35000 \t87% \t(9m 21s) \t2.5931\n",
            "37500 \t93% \t(10m 1s) \t2.6482\n",
            "40000 \t100% \t(10m 42s) \t2.5568\n"
          ],
          "name": "stdout"
        }
      ]
    },
    {
      "cell_type": "markdown",
      "metadata": {
        "id": "kbnt0ez-dUSK"
      },
      "source": [
        "Plotting the Losses\n",
        "-------------------\n",
        "\n",
        "Plotting the historical loss from all\\_losses shows the network\n",
        "learning:\n",
        "\n",
        "\n"
      ]
    },
    {
      "cell_type": "code",
      "metadata": {
        "id": "e_cF9iL1dUSK",
        "outputId": "a4b04d0d-68f7-4411-b737-c92a1dff3328",
        "colab": {
          "base_uri": "https://localhost:8080/",
          "height": 641
        }
      },
      "source": [
        "import matplotlib.pyplot as plt\n",
        "import matplotlib.ticker as ticker\n",
        "\n",
        "plt.figure()\n",
        "plt.plot(all_train_losses,label='i  (hidden_character_category')\n",
        "plt.plot(all_train_losses2,label='ii  (hidden_character')\n",
        "plt.plot(all_train_losses3,label='iii  (hidden_category)')\n",
        "plt.plot(all_train_losses4,label='iV  (hidden)')\n",
        "plt.title('Generating names with a character-level RNN (Training loss)')\n",
        "plt.ylabel('Negative Log Likelihood')\n",
        "plt.xlabel('# of 500 iterations')\n",
        "plt.legend(loc='upper right')\n",
        "\n",
        "plt.figure()\n",
        "plt.plot(all_validation_losses,label='i  (hidden_character_category)')\n",
        "plt.plot(all_validation_losses2,label='ii  (hidden_character)')\n",
        "plt.plot(all_validation_losses3,label='iii  (hidden_category)')\n",
        "plt.plot(all_validation_losses4,label='iV  (hidden)')\n",
        "plt.title('Generating names with a character-level RNN (Validation loss)')\n",
        "plt.ylabel('Negative Log Likelihood')\n",
        "plt.xlabel('# of 500 iterations')\n",
        "plt.legend( loc='upper right')\n",
        "\n",
        "# evaluate on test set and print average test loss\n",
        "rnn = torch.load('char_rnn_generation_model.pt')\n",
        "average_test_loss = eval_dataset(test_data)\n",
        "print('Average test loss(i) (hidden_category_character): ' + str(average_test_loss))\n",
        "\n",
        "rnn2 = torch.load('char_rnn_generation_model2.pt')\n",
        "average_test_loss2 = eval_dataset2(test_data)\n",
        "print('Average test loss(ii) (hidden_character): ' + str(average_test_loss2))\n",
        "\n",
        "rnn3 = torch.load('char_rnn_generation_model3.pt')\n",
        "average_test_loss3 = eval_dataset3(test_data)\n",
        "print('Average test loss(iii) (hidden_category): ' + str(average_test_loss3))\n",
        "\n",
        "rnn4 = torch.load('char_rnn_generation_model4.pt')\n",
        "average_test_loss4 = eval_dataset4(test_data)\n",
        "print('Average test loss(iV) (hidden): ' + str(average_test_loss4))"
      ],
      "execution_count": 119,
      "outputs": [
        {
          "output_type": "stream",
          "text": [
            "Average test loss(i) (hidden_category_character): 2.451725266334137\n",
            "Average test loss(ii) (hidden_character): 2.4655019326958336\n",
            "Average test loss(iii) (hidden_category): 2.7784443031057338\n",
            "Average test loss(iV) (hidden): 2.7927729186753103\n"
          ],
          "name": "stdout"
        },
        {
          "output_type": "display_data",
          "data": {
            "image/png": "[encoded data removed]",
            "text/plain": [
              "<Figure size 432x288 with 1 Axes>"
            ]
          },
          "metadata": {
            "tags": [],
            "needs_background": "light"
          }
        },
        {
          "output_type": "display_data",
          "data": {
            "image/png": "[encoded data removed]",
            "text/plain": [
              "<Figure size 432x288 with 1 Axes>"
            ]
          },
          "metadata": {
            "tags": [],
            "needs_background": "light"
          }
        }
      ]
    },
    {
      "cell_type": "markdown",
      "metadata": {
        "id": "FqCUa1rJdUSM"
      },
      "source": [
        "Sampling the Network\n",
        "====================\n",
        "\n",
        "To sample we give the network a letter and ask what the next one is,\n",
        "feed that in as the next letter, and repeat until the EOS token.\n",
        "\n",
        "-  Create tensors for input category, starting letter, and empty hidden\n",
        "   state\n",
        "-  Create a string ``output_name`` with the starting letter\n",
        "-  Up to a maximum output length,\n",
        "\n",
        "   -  Feed the current letter to the network\n",
        "   -  Get the next letter from highest output, and next hidden state\n",
        "   -  If the letter is EOS, stop here\n",
        "   -  If a regular letter, add to ``output_name`` and continue\n",
        "\n",
        "-  Return the final name\n",
        "\n",
        ".. Note::\n",
        "   Rather than having to give it a starting letter, another\n",
        "   strategy would have been to include a \"start of string\" token in\n",
        "   training and have the network choose its own starting letter.\n",
        "\n",
        "\n"
      ]
    },
    {
      "cell_type": "code",
      "metadata": {
        "id": "kZWDVkPAdUSN",
        "outputId": "2701b79a-e841-4930-fa76-693d2336f1c1",
        "colab": {
          "base_uri": "https://localhost:8080/"
        }
      },
      "source": [
        "max_length = 20\n",
        "\n",
        "# Sample from a category and starting letter\n",
        "def sample(category, start_letter='A'):\n",
        "    with torch.no_grad():  # no need to track history in sampling\n",
        "        category_tensor = categoryTensor(category)\n",
        "        input = inputTensor(start_letter)\n",
        "        hidden = rnn.initHidden()\n",
        "\n",
        "        output_name = start_letter\n",
        "\n",
        "        for i in range(max_length):\n",
        "            output, hidden = rnn(category_tensor, input[0], hidden)\n",
        "            topv, topi = output.topk(1)\n",
        "            topi = topi[0][0]\n",
        "            if topi == n_letters - 1:\n",
        "                break\n",
        "            else:\n",
        "                letter = all_letters[topi]\n",
        "                output_name += letter\n",
        "            input = inputTensor(letter)\n",
        "\n",
        "        return output_name\n",
        "\n",
        "# Get multiple samples from one category and multiple starting letters\n",
        "def samples(category, start_letters='ABC'):\n",
        "    for start_letter in start_letters:\n",
        "        print(sample(category, start_letter))\n",
        "\n",
        "samples('Russian', 'RUS')\n",
        "\n",
        "samples('German', 'GER')\n",
        "\n",
        "samples('Spanish', 'SPA')\n",
        "\n",
        "samples('Chinese', 'CHI')"
      ],
      "execution_count": 120,
      "outputs": [
        {
          "output_type": "stream",
          "text": [
            "Robari\n",
            "Ushavakin\n",
            "Shavekev\n",
            "Ganger\n",
            "Esterr\n",
            "Ros\n",
            "Sara\n",
            "Parela\n",
            "Alara\n",
            "Cha\n",
            "Han\n",
            "Iwa\n"
          ],
          "name": "stdout"
        }
      ]
    },
    {
      "cell_type": "markdown",
      "metadata": {
        "id": "UjDrscrA8Kav"
      },
      "source": [
        "as we can see from the plots the worst performance is for the case when none of category or character are provided as an input. \n",
        "\n",
        "RNN should be able to remember the category if we give it to it at the beginning and it should be able to remember previous character, since information regarding them are available in hidden states. \n",
        "\n",
        "however, learning of remembering of those information is not easy.Therefore our RNN forget those information and it performs more poorly compared to situations where category and characters are fed as an input. \n",
        "\n",
        "previous character contains much more information regarding  next character (compared to category), therefore if we skip providing the category at every step (we provide it only at beginning) but keep previous character as our input data at every iteration , our performance is better compared to a situation where we keep category and we ignore previous character as our input data.\n",
        "\n",
        "as mentioned above best performance is for the case where both category and character are fed as input to our network, this helps network to better remember those information and therefore it can make use of its parameters better for learning.(in simple words: hidden states can keep more usefull information since they do not have to be worried about remembering category and previous characters since they are provided at each step)\n"
      ]
    },
    {
      "cell_type": "markdown",
      "metadata": {
        "id": "f3H4eXrRdUSP"
      },
      "source": [
        "Exercises\n",
        "=========\n",
        "\n",
        "-  Try with a different dataset of category -> line, for example:\n",
        "\n",
        "   -  Fictional series -> Character name\n",
        "   -  Part of speech -> Word\n",
        "   -  Country -> City\n",
        "\n",
        "-  Use a \"start of sentence\" token so that sampling can be done without\n",
        "   choosing a start letter\n",
        "-  Get better results with a bigger and/or better shaped network\n",
        "\n",
        "   -  Try the nn.LSTM and nn.GRU layers\n",
        "   -  Combine multiple of these RNNs as a higher level network\n",
        "\n",
        "\n"
      ]
    }
  ]
}