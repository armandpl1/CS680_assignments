{
  "nbformat": 4,
  "nbformat_minor": 0,
  "metadata": {
    "colab": {
      "name": "cs480_fall20_asst5_char_rnn_classification.ipynb",
      "provenance": []
    },
    "language_info": {
      "codemirror_mode": {
        "name": "ipython",
        "version": 3
      },
      "file_extension": ".py",
      "mimetype": "text/x-python",
      "name": "python",
      "nbconvert_exporter": "python",
      "pygments_lexer": "ipython3",
      "version": "3.6.6"
    },
    "kernelspec": {
      "name": "python3",
      "display_name": "Python 3"
    }
  },
  "cells": [
    {
      "cell_type": "markdown",
      "metadata": {
        "id": "o3UFgeUebGKo"
      },
      "source": [
        "Download the data"
      ]
    },
    {
      "cell_type": "code",
      "metadata": {
        "id": "P6BH8Bgpa_ZS",
        "outputId": "af492f5e-df61-4b6b-e0aa-4b812b910b7e",
        "colab": {
          "base_uri": "https://localhost:8080/"
        }
      },
      "source": [
        "!wget https://download.pytorch.org/tutorial/data.zip\n",
        "!unzip data.zip\n",
        "!ls"
      ],
      "execution_count": 1,
      "outputs": [
        {
          "output_type": "stream",
          "text": [
            "--2020-11-09 20:33:04--  https://download.pytorch.org/tutorial/data.zip\n",
            "Resolving download.pytorch.org (download.pytorch.org)... 13.226.49.83, 13.226.49.80, 13.226.49.39, ...\n",
            "Connecting to download.pytorch.org (download.pytorch.org)|13.226.49.83|:443... connected.\n",
            "HTTP request sent, awaiting response... 200 OK\n",
            "Length: 2882130 (2.7M) [application/zip]\n",
            "Saving to: ‘data.zip’\n",
            "\n",
            "data.zip            100%[===================>]   2.75M  15.8MB/s    in 0.2s    \n",
            "\n",
            "2020-11-09 20:33:05 (15.8 MB/s) - ‘data.zip’ saved [2882130/2882130]\n",
            "\n",
            "Archive:  data.zip\n",
            "   creating: data/\n",
            "  inflating: data/eng-fra.txt        \n",
            "   creating: data/names/\n",
            "  inflating: data/names/Arabic.txt   \n",
            "  inflating: data/names/Chinese.txt  \n",
            "  inflating: data/names/Czech.txt    \n",
            "  inflating: data/names/Dutch.txt    \n",
            "  inflating: data/names/English.txt  \n",
            "  inflating: data/names/French.txt   \n",
            "  inflating: data/names/German.txt   \n",
            "  inflating: data/names/Greek.txt    \n",
            "  inflating: data/names/Irish.txt    \n",
            "  inflating: data/names/Italian.txt  \n",
            "  inflating: data/names/Japanese.txt  \n",
            "  inflating: data/names/Korean.txt   \n",
            "  inflating: data/names/Polish.txt   \n",
            "  inflating: data/names/Portuguese.txt  \n",
            "  inflating: data/names/Russian.txt  \n",
            "  inflating: data/names/Scottish.txt  \n",
            "  inflating: data/names/Spanish.txt  \n",
            "  inflating: data/names/Vietnamese.txt  \n",
            "data  data.zip\tsample_data\n"
          ],
          "name": "stdout"
        }
      ]
    },
    {
      "cell_type": "code",
      "metadata": {
        "id": "IGZLdMtDUfxu"
      },
      "source": [
        "%matplotlib inline"
      ],
      "execution_count": 27,
      "outputs": []
    },
    {
      "cell_type": "markdown",
      "metadata": {
        "id": "KNkkHixNUfxz"
      },
      "source": [
        "\n",
        "Classifying Names with a Character-Level RNN\n",
        "*********************************************\n",
        "**Author**: `Sean Robertson <https://github.com/spro/practical-pytorch>`_\n",
        "\n",
        "We will be building and training a basic character-level RNN to classify\n",
        "words. A character-level RNN reads words as a series of characters -\n",
        "outputting a prediction and \"hidden state\" at each step, feeding its\n",
        "previous hidden state into each next step. We take the final prediction\n",
        "to be the output, i.e. which class the word belongs to.\n",
        "\n",
        "Specifically, we'll train on a few thousand surnames from 18 languages\n",
        "of origin, and predict which language a name is from based on the\n",
        "spelling:\n",
        "\n",
        "::\n",
        "\n",
        "    $ python predict.py Hinton\n",
        "    (-0.47) Scottish\n",
        "    (-1.52) English\n",
        "    (-3.57) Irish\n",
        "\n",
        "    $ python predict.py Schmidhuber\n",
        "    (-0.19) German\n",
        "    (-2.48) Czech\n",
        "    (-2.68) Dutch\n",
        "\n",
        "\n",
        "**Recommended Reading:**\n",
        "\n",
        "I assume you have at least installed PyTorch, know Python, and\n",
        "understand Tensors:\n",
        "\n",
        "-  http://pytorch.org/ For installation instructions\n",
        "-  :doc:`/beginner/deep_learning_60min_blitz` to get started with PyTorch in general\n",
        "-  :doc:`/beginner/pytorch_with_examples` for a wide and deep overview\n",
        "-  :doc:`/beginner/former_torchies_tutorial` if you are former Lua Torch user\n",
        "\n",
        "It would also be useful to know about RNNs and how they work:\n",
        "\n",
        "-  `The Unreasonable Effectiveness of Recurrent Neural\n",
        "   Networks <http://karpathy.github.io/2015/05/21/rnn-effectiveness/>`__\n",
        "   shows a bunch of real life examples\n",
        "-  `Understanding LSTM\n",
        "   Networks <http://colah.github.io/posts/2015-08-Understanding-LSTMs/>`__\n",
        "   is about LSTMs specifically but also informative about RNNs in\n",
        "   general\n",
        "\n",
        "Preparing the Data\n",
        "==================\n",
        "\n",
        ".. Note::\n",
        "   Download the data from\n",
        "   `here <https://download.pytorch.org/tutorial/data.zip>`_\n",
        "   and extract it to the current directory.\n",
        "\n",
        "Included in the ``data/names`` directory are 18 text files named as\n",
        "\"[Language].txt\". Each file contains a bunch of names, one name per\n",
        "line, mostly romanized (but we still need to convert from Unicode to\n",
        "ASCII).\n",
        "\n",
        "We'll end up with a dictionary of lists of names per language,\n",
        "``{language: [names ...]}``. The generic variables \"category\" and \"line\"\n",
        "(for language and name in our case) are used for later extensibility.\n",
        "\n"
      ]
    },
    {
      "cell_type": "code",
      "metadata": {
        "id": "MfLSXwTHUfxz",
        "outputId": "a8ad5187-5d67-4635-8d8a-d3952fa3d113",
        "colab": {
          "base_uri": "https://localhost:8080/"
        }
      },
      "source": [
        "from __future__ import unicode_literals, print_function, division\n",
        "from io import open\n",
        "import glob\n",
        "import os\n",
        "import random\n",
        "\n",
        "def findFiles(path): return glob.glob(path)\n",
        "\n",
        "print(findFiles('data/names/*.txt'))\n",
        "\n",
        "import unicodedata\n",
        "import string\n",
        "import math\n",
        "\n",
        "all_letters = string.ascii_letters + \" .,;'\"\n",
        "n_letters = len(all_letters)\n",
        "\n",
        "# Turn a Unicode string to plain ASCII, thanks to http://stackoverflow.com/a/518232/2809427\n",
        "def unicodeToAscii(s):\n",
        "    return ''.join(\n",
        "        c for c in unicodedata.normalize('NFD', s)\n",
        "        if unicodedata.category(c) != 'Mn'\n",
        "        and c in all_letters\n",
        "    )\n",
        "\n",
        "print(unicodeToAscii('Ślusàrski'))\n",
        "\n",
        "# Build the category_lines dictionary, a list of names per language\n",
        "category_lines = {}\n",
        "train_data = {}\n",
        "validation_data = {}\n",
        "test_data = {}\n",
        "all_categories = []\n",
        "\n",
        "# Read a file and split into lines\n",
        "def readLines(filename):\n",
        "    lines = open(filename, encoding='utf-8').read().strip().split('\\n')\n",
        "    return [unicodeToAscii(line) for line in lines]\n",
        "\n",
        "for filename in findFiles('data/names/*.txt'):\n",
        "    category = os.path.splitext(os.path.basename(filename))[0]\n",
        "    all_categories.append(category)\n",
        "    lines = readLines(filename)\n",
        "    random.shuffle(lines)\n",
        "    train_data[category] = lines[0:int(math.floor(0.7*len(lines)))]\n",
        "    validation_data[category] = lines[int(math.floor(0.7*len(lines)))+1:int(math.floor(0.85*len(lines)))]\n",
        "    test_data[category] = lines[int(math.floor(0.85*len(lines)))+1:]\n",
        "    category_lines[category] = lines\n",
        "\n",
        "n_categories = len(all_categories)"
      ],
      "execution_count": 28,
      "outputs": [
        {
          "output_type": "stream",
          "text": [
            "['data/names/Irish.txt', 'data/names/Czech.txt', 'data/names/Portuguese.txt', 'data/names/German.txt', 'data/names/Vietnamese.txt', 'data/names/Polish.txt', 'data/names/Chinese.txt', 'data/names/French.txt', 'data/names/Russian.txt', 'data/names/Dutch.txt', 'data/names/Spanish.txt', 'data/names/Greek.txt', 'data/names/English.txt', 'data/names/Italian.txt', 'data/names/Japanese.txt', 'data/names/Arabic.txt', 'data/names/Korean.txt', 'data/names/Scottish.txt']\n",
            "Slusarski\n"
          ],
          "name": "stdout"
        }
      ]
    },
    {
      "cell_type": "markdown",
      "metadata": {
        "id": "lPlBRkDuUfx2"
      },
      "source": [
        "Now we have ``category_lines``, a dictionary mapping each category\n",
        "(language) to a list of lines (names). We also kept track of\n",
        "``all_categories`` (just a list of languages) and ``n_categories`` for\n",
        "later reference.\n",
        "\n",
        "\n"
      ]
    },
    {
      "cell_type": "code",
      "metadata": {
        "id": "VKlnBNIjUfx2",
        "outputId": "89909553-3d97-4efa-e9be-66c76b53a284",
        "colab": {
          "base_uri": "https://localhost:8080/"
        }
      },
      "source": [
        "print(category_lines['Italian'][:5])"
      ],
      "execution_count": 29,
      "outputs": [
        {
          "output_type": "stream",
          "text": [
            "['Vestri', 'Anselmetti', 'Acciai', 'Bello', 'Capello']\n"
          ],
          "name": "stdout"
        }
      ]
    },
    {
      "cell_type": "markdown",
      "metadata": {
        "id": "I5SGUIMRUfx4"
      },
      "source": [
        "Turning Names into Tensors\n",
        "--------------------------\n",
        "\n",
        "Now that we have all the names organized, we need to turn them into\n",
        "Tensors to make any use of them.\n",
        "\n",
        "To represent a single letter, we use a \"one-hot vector\" of size\n",
        "``<1 x n_letters>``. A one-hot vector is filled with 0s except for a 1\n",
        "at index of the current letter, e.g. ``\"b\" = <0 1 0 0 0 ...>``.\n",
        "\n",
        "To make a word we join a bunch of those into a 2D matrix\n",
        "``<line_length x 1 x n_letters>``.\n",
        "\n",
        "That extra 1 dimension is because PyTorch assumes everything is in\n",
        "batches - we're just using a batch size of 1 here.\n",
        "\n",
        "\n"
      ]
    },
    {
      "cell_type": "code",
      "metadata": {
        "id": "SPFamDJVUfx5",
        "outputId": "04e345e9-a994-4eb1-f729-17b57e7dd0e6",
        "colab": {
          "base_uri": "https://localhost:8080/"
        }
      },
      "source": [
        "import torch\n",
        "\n",
        "# Find letter index from all_letters, e.g. \"a\" = 0\n",
        "def letterToIndex(letter):\n",
        "    return all_letters.find(letter)\n",
        "\n",
        "# Just for demonstration, turn a letter into a <1 x n_letters> Tensor\n",
        "def letterToTensor(letter):\n",
        "    tensor = torch.zeros(1, n_letters)\n",
        "    tensor[0][letterToIndex(letter)] = 1\n",
        "    return tensor\n",
        "\n",
        "# Turn a line into a <line_length x 1 x n_letters>,\n",
        "# or an array of one-hot letter vectors\n",
        "def lineToTensor(line):\n",
        "    tensor = torch.zeros(len(line), 1, n_letters)\n",
        "    for li, letter in enumerate(line):\n",
        "        tensor[li][0][letterToIndex(letter)] = 1\n",
        "    return tensor\n",
        "\n",
        "print(letterToTensor('J'))\n",
        "\n",
        "print(lineToTensor('Jones').size())"
      ],
      "execution_count": 30,
      "outputs": [
        {
          "output_type": "stream",
          "text": [
            "tensor([[0., 0., 0., 0., 0., 0., 0., 0., 0., 0., 0., 0., 0., 0., 0., 0., 0., 0.,\n",
            "         0., 0., 0., 0., 0., 0., 0., 0., 0., 0., 0., 0., 0., 0., 0., 0., 0., 1.,\n",
            "         0., 0., 0., 0., 0., 0., 0., 0., 0., 0., 0., 0., 0., 0., 0., 0., 0., 0.,\n",
            "         0., 0., 0.]])\n",
            "torch.Size([5, 1, 57])\n"
          ],
          "name": "stdout"
        }
      ]
    },
    {
      "cell_type": "markdown",
      "metadata": {
        "id": "FBQkCWy_Ufx7"
      },
      "source": [
        "Creating the Network\n",
        "====================\n",
        "\n",
        "Before autograd, creating a recurrent neural network in Torch involved\n",
        "cloning the parameters of a layer over several timesteps. The layers\n",
        "held hidden state and gradients which are now entirely handled by the\n",
        "graph itself. This means you can implement a RNN in a very \"pure\" way,\n",
        "as regular feed-forward layers.\n",
        "\n",
        "This RNN module (mostly copied from `the PyTorch for Torch users\n",
        "tutorial <http://pytorch.org/tutorials/beginner/former_torchies/\n",
        "nn_tutorial.html#example-2-recurrent-net>`__)\n",
        "is just 2 linear layers which operate on an input and hidden state, with\n",
        "a LogSoftmax layer after the output.\n",
        "\n",
        ".. figure:: https://i.imgur.com/Z2xbySO.png\n",
        "   :alt:\n",
        "\n",
        "\n",
        "\n"
      ]
    },
    {
      "cell_type": "code",
      "metadata": {
        "id": "nAJSP2rTUfx8"
      },
      "source": [
        "import torch.nn as nn\n",
        "from torch.autograd import Variable\n",
        "\n",
        "class RNN(nn.Module):\n",
        "    def __init__(self, input_size, hidden_size, output_size):\n",
        "        super(RNN, self).__init__()\n",
        "\n",
        "        self.hidden_size = hidden_size\n",
        "\n",
        "        self.i2h = nn.Linear(input_size + hidden_size, hidden_size)\n",
        "        self.i2o = nn.Linear(input_size + hidden_size, output_size)\n",
        "        self.softmax = nn.LogSoftmax(dim=1)\n",
        "\n",
        "    def forward(self, input, hidden):\n",
        "        combined = torch.cat((input, hidden), 1)\n",
        "        hidden = self.i2h(combined)\n",
        "        output = self.i2o(combined)\n",
        "        output = self.softmax(output)\n",
        "        return output, hidden\n",
        "\n",
        "    def initHidden(self):\n",
        "        return torch.zeros(1, self.hidden_size)\n",
        "\n",
        "n_hidden = 128\n",
        "rnn = RNN(n_letters, n_hidden, n_categories)      "
      ],
      "execution_count": 53,
      "outputs": []
    },
    {
      "cell_type": "code",
      "metadata": {
        "id": "QGlyRBgz5qjV"
      },
      "source": [
        "import torch.nn as nn\n",
        "from torch.autograd import Variable\n",
        "class RNN_GRU(nn.Module):\n",
        "    def __init__(self, input_size, hidden_size, output_size):\n",
        "        super(RNN_GRU, self).__init__()\n",
        "\n",
        "        self.hidden_size = hidden_size\n",
        "\n",
        "        self.i2h = nn.GRUCell(input_size+hidden_size , hidden_size)\n",
        "        \n",
        "        self.i2o = nn.Linear(hidden_size, output_size)\n",
        "        self.softmax = nn.LogSoftmax(dim=1)\n",
        "\n",
        "    def forward(self, input, hidden):\n",
        "        combined = torch.cat((input, hidden), 1)\n",
        "        hidden = self.i2h(combined) \n",
        "        output = self.i2o(hidden)\n",
        "        output = self.softmax(output)\n",
        "        return output, hidden\n",
        "\n",
        "    def initHidden(self):\n",
        "        return torch.zeros(1, self.hidden_size)\n",
        "\n",
        "n_hidden = 128\n",
        "rnn_gru = RNN_GRU(n_letters, n_hidden, n_categories)"
      ],
      "execution_count": 54,
      "outputs": []
    },
    {
      "cell_type": "code",
      "metadata": {
        "id": "YD1ebHua58T8"
      },
      "source": [
        "import torch.nn as nn\n",
        "from torch.autograd import Variable\n",
        "\n",
        "class RNN_LSTM(nn.Module):\n",
        "    def __init__(self, input_size, hidden_size, output_size):\n",
        "        super(RNN_LSTM, self).__init__()\n",
        "        self.hidden_size = hidden_size\n",
        "        \n",
        "        self.i2h = nn.LSTMCell(input_size+hidden_size+hidden_size, hidden_size)    \n",
        "        self.i2o = nn.Linear( hidden_size, output_size)\n",
        "        self.softmax = nn.LogSoftmax(dim=1)\n",
        "\n",
        "    def forward(self, input, hidden,hidden_state):\n",
        "\n",
        "        combined = torch.cat((input, hidden,hidden_state), 1)\n",
        "\n",
        "        hidden,hidden_state = self.i2h(combined)\n",
        "\n",
        "        output = self.i2o(hidden)\n",
        "\n",
        "        output = self.softmax(output)\n",
        "\n",
        "        return output, hidden,hidden_state\n",
        "\n",
        "    def initHidden(self):\n",
        "        return torch.zeros(1, self.hidden_size),torch.zeros(1, self.hidden_size)\n",
        "\n",
        "n_hidden = 128\n",
        "rnn_lstm = RNN_LSTM(n_letters, n_hidden, n_categories)"
      ],
      "execution_count": 55,
      "outputs": []
    },
    {
      "cell_type": "markdown",
      "metadata": {
        "id": "fhxOqo0mUfx-"
      },
      "source": [
        "To run a step of this network we need to pass an input (in our case, the\n",
        "Tensor for the current letter) and a previous hidden state (which we\n",
        "initialize as zeros at first). We'll get back the output (probability of\n",
        "each language) and a next hidden state (which we keep for the next\n",
        "step).\n",
        "\n",
        "\n"
      ]
    },
    {
      "cell_type": "code",
      "metadata": {
        "id": "5zjQ-ZXbUfx-"
      },
      "source": [
        "input = letterToTensor('A')\n",
        "hidden =torch.zeros(1, n_hidden)\n",
        "\n",
        "output, next_hidden = rnn(input, hidden)"
      ],
      "execution_count": 10,
      "outputs": []
    },
    {
      "cell_type": "markdown",
      "metadata": {
        "id": "juc150V5UfyB"
      },
      "source": [
        "For the sake of efficiency we don't want to be creating a new Tensor for\n",
        "every step, so we will use ``lineToTensor`` instead of\n",
        "``letterToTensor`` and use slices. This could be further optimized by\n",
        "pre-computing batches of Tensors.\n",
        "\n",
        "\n"
      ]
    },
    {
      "cell_type": "code",
      "metadata": {
        "id": "hLpj5ZVPUfyB",
        "outputId": "a5f263c4-d9bf-43f0-c88e-fbf197e6988a",
        "colab": {
          "base_uri": "https://localhost:8080/"
        }
      },
      "source": [
        "input = lineToTensor('Albert')\n",
        "hidden = torch.zeros(1, n_hidden)\n",
        "\n",
        "output, next_hidden = rnn(input[0], hidden)\n",
        "print(output)"
      ],
      "execution_count": 34,
      "outputs": [
        {
          "output_type": "stream",
          "text": [
            "tensor([[-2.8316, -2.8505, -2.9477, -2.8780, -2.9831, -2.8465, -2.8195, -2.8405,\n",
            "         -2.8505, -2.8072, -2.8351, -2.9989, -2.8934, -2.8283, -2.8855, -2.9585,\n",
            "         -2.9960, -3.0178]], grad_fn=<LogSoftmaxBackward>)\n"
          ],
          "name": "stdout"
        }
      ]
    },
    {
      "cell_type": "markdown",
      "metadata": {
        "id": "Wy0E3nCjUfyE"
      },
      "source": [
        "As you can see the output is a ``<1 x n_categories>`` Tensor, where\n",
        "every item is the likelihood of that category (higher is more likely).\n",
        "\n",
        "\n"
      ]
    },
    {
      "cell_type": "markdown",
      "metadata": {
        "id": "ukMo68ApUfyF"
      },
      "source": [
        "Training\n",
        "========\n",
        "Preparing for Training\n",
        "----------------------\n",
        "\n",
        "Before going into training we should make a few helper functions. The\n",
        "first is to interpret the output of the network, which we know to be a\n",
        "likelihood of each category. We can use ``Tensor.topk`` to get the index\n",
        "of the greatest value:\n",
        "\n",
        "\n"
      ]
    },
    {
      "cell_type": "code",
      "metadata": {
        "id": "bFY_yAVKUfyG"
      },
      "source": [
        "def categoryFromOutput(output):\n",
        "    top_n, top_i = output.topk(1)\n",
        "    category_i = top_i[0].item()\n",
        "    return all_categories[category_i], category_i\n"
      ],
      "execution_count": 46,
      "outputs": []
    },
    {
      "cell_type": "markdown",
      "metadata": {
        "id": "mdDJjeS5UfyJ"
      },
      "source": [
        "We will also want a quick way to get a training example (a name and its\n",
        "language):\n",
        "\n",
        "\n"
      ]
    },
    {
      "cell_type": "code",
      "metadata": {
        "id": "nTNx73poUfyK",
        "outputId": "7624d17e-dd4b-4455-a807-79c91a9c6f9a",
        "colab": {
          "base_uri": "https://localhost:8080/"
        }
      },
      "source": [
        "import random\n",
        "\n",
        "def randomChoice(l):\n",
        "    return l[random.randint(0, len(l) - 1)]\n",
        "\n",
        "def randomTrainingExample():\n",
        "    category = randomChoice(all_categories)\n",
        "    line = randomChoice(train_data[category])\n",
        "    category_tensor = torch.tensor([all_categories.index(category)], dtype=torch.long)\n",
        "    line_tensor = lineToTensor(line)\n",
        "    return category, line, category_tensor, line_tensor\n",
        "\n",
        "for i in range(10):\n",
        "    category, line, category_tensor, line_tensor = randomTrainingExample()\n",
        "    print('category =', category, '/ line =', line)"
      ],
      "execution_count": 47,
      "outputs": [
        {
          "output_type": "stream",
          "text": [
            "category = Czech / line = Quasninsky\n",
            "category = Russian / line = Mikhalenkov\n",
            "category = Arabic / line = Seif\n",
            "category = Japanese / line = Matsushina\n",
            "category = Polish / line = Sniegowski\n",
            "category = Arabic / line = Safar\n",
            "category = German / line = Maus\n",
            "category = Japanese / line = Komon\n",
            "category = English / line = Myatt\n",
            "category = Korean / line = Sun\n"
          ],
          "name": "stdout"
        }
      ]
    },
    {
      "cell_type": "markdown",
      "metadata": {
        "id": "Z4gnruWLUfyM"
      },
      "source": [
        "Training the Network\n",
        "--------------------\n",
        "\n",
        "Now all it takes to train this network is show it a bunch of examples,\n",
        "have it make guesses, and tell it if it's wrong.\n",
        "\n",
        "For the loss function ``nn.NLLLoss`` is appropriate, since the last\n",
        "layer of the RNN is ``nn.LogSoftmax``.\n",
        "\n",
        "\n"
      ]
    },
    {
      "cell_type": "code",
      "metadata": {
        "id": "b91CnzJPUfyM"
      },
      "source": [
        "criterion = nn.NLLLoss()"
      ],
      "execution_count": 56,
      "outputs": []
    },
    {
      "cell_type": "markdown",
      "metadata": {
        "id": "FAp0xov1UfyP"
      },
      "source": [
        "Each loop of training will:\n",
        "\n",
        "-  Create input and target tensors\n",
        "-  Create a zeroed initial hidden state\n",
        "-  Read each letter in and\n",
        "\n",
        "   -  Keep hidden state for next letter\n",
        "\n",
        "-  Compare final output to target\n",
        "-  Back-propagate\n",
        "-  Return the output and loss\n",
        "\n",
        "\n"
      ]
    },
    {
      "cell_type": "code",
      "metadata": {
        "id": "ED_i2_CWUfyP"
      },
      "source": [
        "optimizer = torch.optim.Adam(rnn.parameters())\n",
        "\n",
        "def train(category_tensor, line_tensor):\n",
        "    hidden = rnn.initHidden()\n",
        "\n",
        "    # reset gradient\n",
        "    rnn.zero_grad()\n",
        "\n",
        "    for i in range(line_tensor.size()[0]):\n",
        "        output, hidden = rnn(line_tensor[i], hidden)\n",
        "    loss = criterion(output, category_tensor)\n",
        "\n",
        "    # compute gradient by backpropagation\n",
        "    loss.backward()\n",
        "\n",
        "    # update parameters\n",
        "    optimizer.step()\n",
        "\n",
        "    return output, loss.item()"
      ],
      "execution_count": 57,
      "outputs": []
    },
    {
      "cell_type": "code",
      "metadata": {
        "id": "yL3aJcwo6V8q"
      },
      "source": [
        "criterion_gru = nn.NLLLoss()"
      ],
      "execution_count": 58,
      "outputs": []
    },
    {
      "cell_type": "code",
      "metadata": {
        "id": "vTXmjUto63zu"
      },
      "source": [
        "optimizer_gru = torch.optim.Adam(rnn_gru.parameters())\n",
        "\n",
        "def train_gru(category_tensor, line_tensor):\n",
        "    hidden = rnn_gru.initHidden()\n",
        "\n",
        "    # reset gradient\n",
        "    rnn_gru.zero_grad()\n",
        "\n",
        "    for i in range(line_tensor.size()[0]):\n",
        "        output, hidden = rnn_gru(line_tensor[i], hidden)\n",
        "    loss = criterion_gru(output, category_tensor)\n",
        "\n",
        "    # compute gradient by backpropagation\n",
        "    loss.backward()\n",
        "\n",
        "    # update parameters\n",
        "    optimizer_gru.step()\n",
        "\n",
        "    return output, loss.item()"
      ],
      "execution_count": 59,
      "outputs": []
    },
    {
      "cell_type": "code",
      "metadata": {
        "id": "5iMN6ADi7TfK"
      },
      "source": [
        "criterion_lstm = nn.NLLLoss()"
      ],
      "execution_count": 60,
      "outputs": []
    },
    {
      "cell_type": "code",
      "metadata": {
        "id": "sAHku7R_7Tyu"
      },
      "source": [
        "optimizer_lstm = torch.optim.Adam(rnn_lstm.parameters())\n",
        "\n",
        "def train_lstm(category_tensor, line_tensor):\n",
        "    hidden,hidden_state = rnn_lstm.initHidden()\n",
        "\n",
        "    # reset gradient\n",
        "    rnn_lstm.zero_grad()\n",
        "\n",
        "    for i in range(line_tensor.size()[0]):\n",
        "        output, hidden,hidden_state = rnn_lstm(line_tensor[i], hidden,hidden_state)\n",
        "    loss = criterion_lstm(output, category_tensor)\n",
        "\n",
        "    # compute gradient by backpropagation\n",
        "    loss.backward()\n",
        "\n",
        "    # update parameters\n",
        "    optimizer_lstm.step()\n",
        "\n",
        "    return output, loss.item()"
      ],
      "execution_count": 61,
      "outputs": []
    },
    {
      "cell_type": "markdown",
      "metadata": {
        "id": "R9usmP9JUfyR"
      },
      "source": [
        "Now we just have to run that with a bunch of examples. Since the\n",
        "``train`` function returns both the output and loss we can print its\n",
        "guesses and also keep track of loss for plotting. Since there are 1000s\n",
        "of examples we print only every ``print_every`` examples, and take an\n",
        "average of the loss.\n",
        "\n",
        "\n"
      ]
    },
    {
      "cell_type": "code",
      "metadata": {
        "id": "q-EUziAlUfyS",
        "outputId": "52e99177-2b6c-4097-813f-387b7dafcb80",
        "colab": {
          "base_uri": "https://localhost:8080/"
        }
      },
      "source": [
        "import time\n",
        "import math\n",
        "\n",
        "n_iters = 80000\n",
        "print_every = 5000\n",
        "plot_every = 1000\n",
        "\n",
        "# Keep track of losses for plotting\n",
        "train_loss = 0\n",
        "all_train_losses = []\n",
        "all_validation_losses = []\n",
        "\n",
        "def timeSince(since):\n",
        "    now = time.time()\n",
        "    s = now - since\n",
        "    m = math.floor(s / 60)\n",
        "    s -= m * 60\n",
        "    return '%dm %ds' % (m, s)\n",
        "\n",
        "# Just return an output given a line\n",
        "def evaluate(line_tensor):\n",
        "    hidden = rnn.initHidden()\n",
        "    for i in range(line_tensor.size()[0]):\n",
        "        output, hidden = rnn(line_tensor[i], hidden)\n",
        "    return output\n",
        "\n",
        "def eval_dataset(dataset):\n",
        "    loss = 0\n",
        "    n_instances = 0\n",
        "    confusion = torch.zeros(n_categories, n_categories)\n",
        "    for category in all_categories:\n",
        "        category_tensor = Variable(torch.LongTensor([all_categories.index(category)]))\n",
        "        n_instances += len(dataset[category])\n",
        "        for line in dataset[category]:\n",
        "            line_tensor = Variable(lineToTensor(line))\n",
        "            output = evaluate(line_tensor)\n",
        "            loss += criterion(output, category_tensor)\n",
        "            guess, guess_i = categoryFromOutput(output)\n",
        "            category_i = all_categories.index(category)\n",
        "            confusion[category_i][guess_i] += 1\n",
        "\n",
        "    # Normalize by dividing every row by its sum\n",
        "    for i in range(n_categories):\n",
        "        confusion[i] = confusion[i] / confusion[i].sum()\n",
        "\n",
        "    return loss.item() / n_instances, confusion\n",
        "  \n",
        "print('\\nIter \\tTrain% \\tTime \\t\\tTrain_loss \\tExample')\n",
        "start = time.time()\n",
        "for iter in range(1, n_iters + 1):\n",
        "    category, line, category_tensor, line_tensor = randomTrainingExample()\n",
        "    output, loss = train(category_tensor, line_tensor)\n",
        "    train_loss += loss\n",
        "\n",
        "    # Print iter number, train loss average, name and guess\n",
        "    if iter % print_every == 0:\n",
        "        guess, guess_i = categoryFromOutput(output)\n",
        "        correct = '✓' if guess == category else '✗ (%s)' % category\n",
        "        print('%d \\t%d%% \\t(%s) \\t%.4f \\t\\t%s / %s %s' % (iter, iter / n_iters * 100, timeSince(start), train_loss / plot_every, line, guess, correct))\n",
        "\n",
        "    # Add current train loss average to list of losses\n",
        "    if iter % plot_every == 0:\n",
        "        all_train_losses.append(train_loss / plot_every)\n",
        "        train_loss = 0\n",
        "        \n",
        "    # Compute loss based on validation data\n",
        "    if iter % plot_every == 0:\n",
        "        average_validation_loss, _ = eval_dataset(validation_data)\n",
        "\n",
        "        # save model with best validation loss\n",
        "        if len(all_validation_losses) == 0 or average_validation_loss < min(all_validation_losses):\n",
        "            torch.save(rnn, 'char_rnn_classification_model.pt')\n",
        "        all_validation_losses.append(average_validation_loss)\n"
      ],
      "execution_count": 62,
      "outputs": [
        {
          "output_type": "stream",
          "text": [
            "\n",
            "Iter \tTrain% \tTime \t\tTrain_loss \tExample\n",
            "5000 \t6% \t(0m 20s) \t1.8754 \t\tBrunet / English ✓\n",
            "10000 \t12% \t(0m 44s) \t1.6719 \t\tSneijer / Czech ✗ (Dutch)\n",
            "15000 \t18% \t(1m 7s) \t1.4577 \t\tDelgado / Spanish ✓\n",
            "20000 \t25% \t(1m 30s) \t1.4514 \t\tAraujo / Portuguese ✓\n",
            "25000 \t31% \t(1m 54s) \t1.3634 \t\tAkrivopoulos / Greek ✓\n",
            "30000 \t37% \t(2m 17s) \t1.3595 \t\tKrantz / German ✗ (Dutch)\n",
            "35000 \t43% \t(2m 40s) \t1.2758 \t\tTuck / Czech ✗ (English)\n",
            "40000 \t50% \t(3m 3s) \t1.2674 \t\tChun / Irish ✗ (Korean)\n",
            "45000 \t56% \t(3m 27s) \t1.2130 \t\tMclean / Scottish ✓\n",
            "50000 \t62% \t(3m 50s) \t1.2877 \t\tPinho / Japanese ✗ (Portuguese)\n",
            "55000 \t68% \t(4m 13s) \t1.1888 \t\tShin / Korean ✓\n",
            "60000 \t75% \t(4m 37s) \t1.2361 \t\tNascimbene / French ✗ (Italian)\n",
            "65000 \t81% \t(5m 1s) \t1.2137 \t\tWinograd / English ✗ (Polish)\n",
            "70000 \t87% \t(5m 25s) \t1.3115 \t\tFreitas / Greek ✗ (Portuguese)\n",
            "75000 \t93% \t(5m 48s) \t1.1339 \t\tMorcos / Portuguese ✗ (Arabic)\n",
            "80000 \t100% \t(6m 11s) \t1.1892 \t\tBrabbery / French ✗ (Czech)\n"
          ],
          "name": "stdout"
        }
      ]
    },
    {
      "cell_type": "code",
      "metadata": {
        "id": "Gq2AjFnE7-OY",
        "outputId": "c955a15d-1042-4b93-acca-9c2bc976d54f",
        "colab": {
          "base_uri": "https://localhost:8080/"
        }
      },
      "source": [
        "import time\n",
        "import math\n",
        "\n",
        "n_iters = 80000\n",
        "print_every = 5000\n",
        "plot_every = 1000\n",
        "\n",
        "# Keep track of losses for plotting\n",
        "train_loss_gru = 0\n",
        "all_train_losses_gru = []\n",
        "all_validation_losses_gru = []\n",
        "\n",
        "def timeSince(since):\n",
        "    now = time.time()\n",
        "    s = now - since\n",
        "    m = math.floor(s / 60)\n",
        "    s -= m * 60\n",
        "    return '%dm %ds' % (m, s)\n",
        "\n",
        "# Just return an output given a line\n",
        "def evaluate_gru(line_tensor):\n",
        "    hidden = rnn_gru.initHidden()\n",
        "    for i in range(line_tensor.size()[0]):\n",
        "        output, hidden = rnn_gru(line_tensor[i], hidden)\n",
        "    return output\n",
        "\n",
        "def eval_dataset_gru(dataset):\n",
        "    loss = 0\n",
        "    n_instances = 0\n",
        "    confusion = torch.zeros(n_categories, n_categories)\n",
        "    for category in all_categories:\n",
        "        category_tensor = Variable(torch.LongTensor([all_categories.index(category)]))\n",
        "        n_instances += len(dataset[category])\n",
        "        for line in dataset[category]:\n",
        "            line_tensor = Variable(lineToTensor(line))\n",
        "            output = evaluate_gru(line_tensor)\n",
        "            loss += criterion_gru(output, category_tensor)\n",
        "            guess, guess_i = categoryFromOutput(output)\n",
        "            category_i = all_categories.index(category)\n",
        "            confusion[category_i][guess_i] += 1\n",
        "\n",
        "    # Normalize by dividing every row by its sum\n",
        "    for i in range(n_categories):\n",
        "        confusion[i] = confusion[i] / confusion[i].sum()\n",
        "\n",
        "    return loss.item() / n_instances, confusion\n",
        "  \n",
        "print('\\nIter \\tTrain% \\tTime \\t\\tTrain_loss \\tExample')\n",
        "start = time.time()\n",
        "for iter in range(1, n_iters + 1):\n",
        "    category, line, category_tensor, line_tensor = randomTrainingExample()\n",
        "    output, loss = train_gru(category_tensor, line_tensor)\n",
        "    train_loss_gru += loss\n",
        "\n",
        "    # Print iter number, train loss average, name and guess\n",
        "    if iter % print_every == 0:\n",
        "        guess, guess_i = categoryFromOutput(output)\n",
        "        correct = '✓' if guess == category else '✗ (%s)' % category\n",
        "        print('%d \\t%d%% \\t(%s) \\t%.4f \\t\\t%s / %s %s' % (iter, iter / n_iters * 100, timeSince(start), train_loss_gru / plot_every, line, guess, correct))\n",
        "\n",
        "    # Add current train loss average to list of losses\n",
        "    if iter % plot_every == 0:\n",
        "        all_train_losses_gru.append(train_loss_gru / plot_every)\n",
        "        train_loss_gru = 0\n",
        "        \n",
        "    # Compute loss based on validation data\n",
        "    if iter % plot_every == 0:\n",
        "        average_validation_loss_gru, _ = eval_dataset_gru(validation_data)\n",
        "\n",
        "        # save model with best validation loss\n",
        "        if len(all_validation_losses_gru) == 0 or average_validation_loss_gru < min(all_validation_losses_gru):\n",
        "            torch.save(rnn_gru, 'char_rnn_classification_model_gru.pt')\n",
        "        all_validation_losses_gru.append(average_validation_loss_gru)"
      ],
      "execution_count": 63,
      "outputs": [
        {
          "output_type": "stream",
          "text": [
            "\n",
            "Iter \tTrain% \tTime \t\tTrain_loss \tExample\n",
            "5000 \t6% \t(0m 53s) \t1.6128 \t\tCihak / Polish ✗ (Czech)\n",
            "10000 \t12% \t(1m 54s) \t1.2989 \t\tYoun / Korean ✓\n",
            "15000 \t18% \t(2m 58s) \t1.0906 \t\tTselios / Greek ✓\n",
            "20000 \t25% \t(3m 57s) \t0.8775 \t\tHan / Chinese ✗ (Vietnamese)\n",
            "25000 \t31% \t(4m 57s) \t0.6893 \t\tSouthern / German ✗ (English)\n",
            "30000 \t37% \t(5m 57s) \t0.6567 \t\tKavanagh / Irish ✓\n",
            "35000 \t43% \t(6m 56s) \t0.6179 \t\tJasso / Spanish ✓\n",
            "40000 \t50% \t(7m 56s) \t0.5239 \t\tDiep / Vietnamese ✓\n",
            "45000 \t56% \t(8m 56s) \t0.5165 \t\tPletcher / German ✓\n",
            "50000 \t62% \t(9m 55s) \t0.4460 \t\tDeeb / Arabic ✓\n",
            "55000 \t68% \t(10m 55s) \t0.3676 \t\tLuong / Vietnamese ✓\n",
            "60000 \t75% \t(11m 55s) \t0.3970 \t\tThan / Vietnamese ✓\n",
            "65000 \t81% \t(12m 57s) \t0.3335 \t\tBui / Vietnamese ✓\n",
            "70000 \t87% \t(13m 57s) \t0.3973 \t\tSon / Korean ✓\n",
            "75000 \t93% \t(14m 56s) \t0.3770 \t\tSolos / Spanish ✓\n",
            "80000 \t100% \t(15m 55s) \t0.3386 \t\tTotolos / Greek ✓\n"
          ],
          "name": "stdout"
        }
      ]
    },
    {
      "cell_type": "code",
      "metadata": {
        "id": "AAHv5c9W-_zx",
        "outputId": "65ce577f-dbd9-4f89-88dd-6f93e9a23a6c",
        "colab": {
          "base_uri": "https://localhost:8080/"
        }
      },
      "source": [
        "import time\n",
        "import math\n",
        "\n",
        "n_iters = 80000\n",
        "print_every = 5000\n",
        "plot_every = 1000\n",
        "\n",
        "# Keep track of losses for plotting\n",
        "train_loss_lstm = 0\n",
        "all_train_losses_lstm = []\n",
        "all_validation_losses_lstm = []\n",
        "\n",
        "def timeSince(since):\n",
        "    now = time.time()\n",
        "    s = now - since\n",
        "    m = math.floor(s / 60)\n",
        "    s -= m * 60\n",
        "    return '%dm %ds' % (m, s)\n",
        "\n",
        "# Just return an output given a line\n",
        "def evaluate_lstm(line_tensor):\n",
        "    hidden,hidden_state = rnn_lstm.initHidden()\n",
        "    for i in range(line_tensor.size()[0]):\n",
        "        output, hidden,hidden_state = rnn_lstm(line_tensor[i], hidden,hidden_state)\n",
        "    return output\n",
        "\n",
        "def eval_dataset_lstm(dataset):\n",
        "    loss = 0\n",
        "    n_instances = 0\n",
        "    confusion = torch.zeros(n_categories, n_categories)\n",
        "    for category in all_categories:\n",
        "        category_tensor = Variable(torch.LongTensor([all_categories.index(category)]))\n",
        "        n_instances += len(dataset[category])\n",
        "        for line in dataset[category]:\n",
        "            line_tensor = Variable(lineToTensor(line))\n",
        "            output = evaluate_lstm(line_tensor)\n",
        "            loss += criterion_lstm(output, category_tensor)\n",
        "            guess, guess_i = categoryFromOutput(output)\n",
        "            category_i = all_categories.index(category)\n",
        "            confusion[category_i][guess_i] += 1\n",
        "\n",
        "    # Normalize by dividing every row by its sum\n",
        "    for i in range(n_categories):\n",
        "        confusion[i] = confusion[i] / confusion[i].sum()\n",
        "\n",
        "    return loss.item() / n_instances, confusion\n",
        "  \n",
        "print('\\nIter \\tTrain% \\tTime \\t\\tTrain_loss \\tExample')\n",
        "start = time.time()\n",
        "for iter in range(1, n_iters + 1):\n",
        "    category, line, category_tensor, line_tensor = randomTrainingExample()\n",
        "    output, loss = train_lstm(category_tensor, line_tensor)\n",
        "    train_loss_lstm += loss\n",
        "\n",
        "    # Print iter number, train loss average, name and guess\n",
        "    if iter % print_every == 0:\n",
        "        guess, guess_i = categoryFromOutput(output)\n",
        "        correct = '✓' if guess == category else '✗ (%s)' % category\n",
        "        print('%d \\t%d%% \\t(%s) \\t%.4f \\t\\t%s / %s %s' % (iter, iter / n_iters * 100, timeSince(start), train_loss_lstm / plot_every, line, guess, correct))\n",
        "\n",
        "    # Add current train loss average to list of losses\n",
        "    if iter % plot_every == 0:\n",
        "        all_train_losses_lstm.append(train_loss_lstm / plot_every)\n",
        "        train_loss_lstm = 0\n",
        "        \n",
        "    # Compute loss based on validation data\n",
        "    if iter % plot_every == 0:\n",
        "        average_validation_loss_lstm, _ = eval_dataset_lstm(validation_data)\n",
        "\n",
        "        # save model with best validation loss\n",
        "        if len(all_validation_losses_lstm) == 0 or average_validation_loss_lstm < min(all_validation_losses_lstm):\n",
        "            torch.save(rnn_lstm, 'char_rnn_classification_model_lstm.pt')\n",
        "        all_validation_losses_lstm.append(average_validation_loss_lstm)"
      ],
      "execution_count": 64,
      "outputs": [
        {
          "output_type": "stream",
          "text": [
            "\n",
            "Iter \tTrain% \tTime \t\tTrain_loss \tExample\n",
            "5000 \t6% \t(1m 4s) \t1.7906 \t\tQiu / Chinese ✓\n",
            "10000 \t12% \t(2m 15s) \t1.3587 \t\tPatselas / Greek ✓\n",
            "15000 \t18% \t(3m 26s) \t1.0470 \t\tKerr / Scottish ✓\n",
            "20000 \t25% \t(4m 38s) \t0.9624 \t\tVeselitsky / Russian ✓\n",
            "25000 \t31% \t(5m 51s) \t0.7672 \t\tRapallino / Italian ✓\n",
            "30000 \t37% \t(7m 5s) \t0.6429 \t\tGuerin / French ✓\n",
            "35000 \t43% \t(8m 17s) \t0.6673 \t\tDesjardins / French ✓\n",
            "40000 \t50% \t(9m 29s) \t0.6139 \t\tLucassen / Dutch ✓\n",
            "45000 \t56% \t(10m 41s) \t0.5882 \t\tZitka / Czech ✓\n",
            "50000 \t62% \t(11m 52s) \t0.4643 \t\tTuma / Arabic ✓\n",
            "55000 \t68% \t(13m 5s) \t0.4527 \t\tWhite / Scottish ✓\n",
            "60000 \t75% \t(14m 16s) \t0.4754 \t\tCameron / Scottish ✓\n",
            "65000 \t81% \t(15m 28s) \t0.5008 \t\tD'cruz / Spanish ✗ (Portuguese)\n",
            "70000 \t87% \t(16m 43s) \t0.4260 \t\tKasamatsu / Japanese ✓\n",
            "75000 \t93% \t(17m 53s) \t0.5053 \t\tJagoda / Polish ✓\n",
            "80000 \t100% \t(19m 5s) \t0.4427 \t\tNisbet / French ✗ (English)\n"
          ],
          "name": "stdout"
        }
      ]
    },
    {
      "cell_type": "markdown",
      "metadata": {
        "id": "3mFqhbXRUfyU"
      },
      "source": [
        "Plotting the Results\n",
        "--------------------\n",
        "\n",
        "Plotting the historical loss from ``all_losses`` shows the network\n",
        "learning:\n",
        "\n",
        "\n"
      ]
    },
    {
      "cell_type": "code",
      "metadata": {
        "id": "qdcD6MmgUfyV",
        "outputId": "7742ff16-114e-49f6-8e64-41b2af11c37a",
        "colab": {
          "base_uri": "https://localhost:8080/",
          "height": 590
        }
      },
      "source": [
        "import matplotlib.pyplot as plt\n",
        "import matplotlib.ticker as ticker\n",
        "\n",
        "plt.figure()\n",
        "plt.plot(all_train_losses,label='Linear')\n",
        "plt.plot(all_train_losses_gru,label='GRU')\n",
        "plt.plot(all_train_losses_lstm,label='LSTM')\n",
        "plt.title('Classifying names with a character-level RNN (Train Loss)')\n",
        "plt.ylabel('Negative Log Likelihood')\n",
        "plt.xlabel('# of 1000 iterations')\n",
        "plt.legend( loc='upper right')\n",
        "\n",
        "\n",
        "plt.figure()\n",
        "plt.plot(all_validation_losses,label='Linear')\n",
        "plt.plot(all_validation_losses_gru,label='GRU')\n",
        "plt.plot(all_validation_losses_lstm,label='LSTM')\n",
        "plt.title('Classifying names with a character-level RNN (Validation Loss)')\n",
        "plt.ylabel('Negative Log Likelihood')\n",
        "plt.xlabel('# of 1000 iterations')\n",
        "plt.legend( loc='upper right')\n"
      ],
      "execution_count": 65,
      "outputs": [
        {
          "output_type": "execute_result",
          "data": {
            "text/plain": [
              "<matplotlib.legend.Legend at 0x7f359a6525f8>"
            ]
          },
          "metadata": {
            "tags": []
          },
          "execution_count": 65
        },
        {
          "output_type": "display_data",
          "data": {
            "image/png": "[encoded data removed]",
            "text/plain": [
              "<Figure size 432x288 with 1 Axes>"
            ]
          },
          "metadata": {
            "tags": [],
            "needs_background": "light"
          }
        },
        {
          "output_type": "display_data",
          "data": {
            "image/png": "[encoded data removed]",
            "text/plain": [
              "<Figure size 432x288 with 1 Axes>"
            ]
          },
          "metadata": {
            "tags": [],
            "needs_background": "light"
          }
        }
      ]
    },
    {
      "cell_type": "markdown",
      "metadata": {
        "id": "rs5yHF_cUfyY"
      },
      "source": [
        "Evaluating the Results\n",
        "======================\n",
        "\n",
        "To see how well the network performs on different categories, we will\n",
        "create a confusion matrix, indicating for every actual language (rows)\n",
        "which language the network guesses (columns). To calculate the confusion\n",
        "matrix a bunch of samples are run through the network with\n",
        "``evaluate()``, which is the same as ``train()`` minus the backprop.\n",
        "\n",
        "\n"
      ]
    },
    {
      "cell_type": "code",
      "metadata": {
        "id": "El-a2qJvUfyZ",
        "outputId": "b7ecd0d0-1439-4337-bafe-a9f2501526cd",
        "colab": {
          "base_uri": "https://localhost:8080/",
          "height": 337
        }
      },
      "source": [
        "# evaluate on test set and display confusion matrix\n",
        "rnn = torch.load('char_rnn_classification_model.pt')\n",
        "average_test_loss, confusion = eval_dataset(test_data)\n",
        "print('Average test loss: ' + str(average_test_loss))\n",
        "\n",
        "# Set up plot\n",
        "fig = plt.figure()\n",
        "ax = fig.add_subplot(111)\n",
        "cax = ax.matshow(confusion.numpy())\n",
        "fig.colorbar(cax)\n",
        "\n",
        "# Set up axes\n",
        "ax.set_xticklabels([''] + all_categories, rotation=90)\n",
        "ax.set_yticklabels([''] + all_categories)\n",
        "\n",
        "# Force label at every tick\n",
        "ax.xaxis.set_major_locator(ticker.MultipleLocator(1))\n",
        "ax.yaxis.set_major_locator(ticker.MultipleLocator(1))\n",
        "\n",
        "# sphinx_gallery_thumbnail_number = 2\n",
        "plt.show()"
      ],
      "execution_count": 69,
      "outputs": [
        {
          "output_type": "stream",
          "text": [
            "Average test loss: 1.342841448683772\n"
          ],
          "name": "stdout"
        },
        {
          "output_type": "display_data",
          "data": {
            "image/png": "[encoded data removed]",
            "text/plain": [
              "<Figure size 432x288 with 2 Axes>"
            ]
          },
          "metadata": {
            "tags": [],
            "needs_background": "light"
          }
        }
      ]
    },
    {
      "cell_type": "code",
      "metadata": {
        "id": "hHSz5bZuEOVc",
        "outputId": "0c7b7b3b-3fa4-41aa-9a19-0f10cede2ff1",
        "colab": {
          "base_uri": "https://localhost:8080/",
          "height": 337
        }
      },
      "source": [
        "# evaluate on test set and display confusion matrix\n",
        "rnn_gru = torch.load('char_rnn_classification_model_gru.pt')\n",
        "average_test_loss_gru, confusion_gru = eval_dataset_gru(test_data)\n",
        "print('Average test loss_GRU: ' + str(average_test_loss_gru))\n",
        "\n",
        "# Set up plot\n",
        "fig = plt.figure()\n",
        "ax = fig.add_subplot(111)\n",
        "cax_gru = ax.matshow(confusion_gru.numpy())\n",
        "fig.colorbar(cax_gru)\n",
        "\n",
        "# Set up axes\n",
        "ax.set_xticklabels([''] + all_categories, rotation=90)\n",
        "ax.set_yticklabels([''] + all_categories)\n",
        "\n",
        "# Force label at every tick\n",
        "ax.xaxis.set_major_locator(ticker.MultipleLocator(1))\n",
        "ax.yaxis.set_major_locator(ticker.MultipleLocator(1))\n",
        "\n",
        "# sphinx_gallery_thumbnail_number = 2\n",
        "plt.show()"
      ],
      "execution_count": 70,
      "outputs": [
        {
          "output_type": "stream",
          "text": [
            "Average test loss_GRU: 1.0135805154792152\n"
          ],
          "name": "stdout"
        },
        {
          "output_type": "display_data",
          "data": {
            "image/png": "[encoded data removed]",
            "text/plain": [
              "<Figure size 432x288 with 2 Axes>"
            ]
          },
          "metadata": {
            "tags": [],
            "needs_background": "light"
          }
        }
      ]
    },
    {
      "cell_type": "code",
      "metadata": {
        "id": "UmjvAhDeHVwj",
        "outputId": "821ad948-d77f-408c-d331-f92679f40637",
        "colab": {
          "base_uri": "https://localhost:8080/",
          "height": 337
        }
      },
      "source": [
        "# evaluate on test set and display confusion matrix\n",
        "rnn_lstm = torch.load('char_rnn_classification_model_lstm.pt')\n",
        "average_test_loss_lstm, confusion_lstm = eval_dataset_lstm(test_data)\n",
        "print('Average test loss_LSTM: ' + str(average_test_loss_lstm))\n",
        "\n",
        "# Set up plot\n",
        "fig = plt.figure()\n",
        "ax = fig.add_subplot(111)\n",
        "cax_lstm = ax.matshow(confusion_lstm.numpy())\n",
        "fig.colorbar(cax_lstm)\n",
        "\n",
        "# Set up axes\n",
        "ax.set_xticklabels([''] + all_categories, rotation=90)\n",
        "ax.set_yticklabels([''] + all_categories)\n",
        "\n",
        "# Force label at every tick\n",
        "ax.xaxis.set_major_locator(ticker.MultipleLocator(1))\n",
        "ax.yaxis.set_major_locator(ticker.MultipleLocator(1))\n",
        "\n",
        "# sphinx_gallery_thumbnail_number = 2\n",
        "plt.show()"
      ],
      "execution_count": 71,
      "outputs": [
        {
          "output_type": "stream",
          "text": [
            "Average test loss_LSTM: 1.1485858066842303\n"
          ],
          "name": "stdout"
        },
        {
          "output_type": "display_data",
          "data": {
            "image/png": "[encoded data removed]",
            "text/plain": [
              "<Figure size 432x288 with 2 Axes>"
            ]
          },
          "metadata": {
            "tags": [],
            "needs_background": "light"
          }
        }
      ]
    },
    {
      "cell_type": "markdown",
      "metadata": {
        "id": "DwU9mA1QUfyb"
      },
      "source": [
        "You can pick out bright spots off the main axis that show which\n",
        "languages it guesses incorrectly, e.g. Chinese for Korean, and Spanish\n",
        "for Italian. It seems to do very well with Greek, and very poorly with\n",
        "English (perhaps because of overlap with other languages).\n",
        "\n",
        "\n"
      ]
    },
    {
      "cell_type": "markdown",
      "metadata": {
        "id": "gWg7ObZAUfyc"
      },
      "source": [
        "Running on User Input\n",
        "---------------------\n",
        "\n",
        "\n"
      ]
    },
    {
      "cell_type": "code",
      "metadata": {
        "id": "bbWHJnCdUfyc",
        "outputId": "0d6a57c0-e644-4191-9126-d66a8b26de48",
        "colab": {
          "base_uri": "https://localhost:8080/"
        }
      },
      "source": [
        "def predict(input_line, n_predictions=3):\n",
        "    print('\\n> %s' % input_line)\n",
        "    with torch.no_grad():\n",
        "        output = evaluate(lineToTensor(input_line))\n",
        "\n",
        "        # Get top N categories\n",
        "        topv, topi = output.topk(n_predictions, 1, True)\n",
        "        predictions = []\n",
        "\n",
        "        for i in range(n_predictions):\n",
        "            value = topv[0][i].item()\n",
        "            category_index = topi[0][i].item()\n",
        "            print('(%.2f) %s' % (value, all_categories[category_index]))\n",
        "            predictions.append([value, all_categories[category_index]])\n",
        "\n",
        "predict('Dovesky')\n",
        "predict('Jackson')\n",
        "predict('Satoshi')"
      ],
      "execution_count": 72,
      "outputs": [
        {
          "output_type": "stream",
          "text": [
            "\n",
            "> Dovesky\n",
            "(-0.19) Russian\n",
            "(-2.14) Czech\n",
            "(-3.42) English\n",
            "\n",
            "> Jackson\n",
            "(-0.76) Russian\n",
            "(-0.92) Scottish\n",
            "(-2.56) English\n",
            "\n",
            "> Satoshi\n",
            "(-1.02) Polish\n",
            "(-1.29) Japanese\n",
            "(-1.49) Arabic\n"
          ],
          "name": "stdout"
        }
      ]
    },
    {
      "cell_type": "markdown",
      "metadata": {
        "id": "Kx2Xcyp8GqWz"
      },
      "source": [
        "as we can see in the plots,training loss of linear hidden unit will be larger at the end of training compared to LSTM and GRU. this behaviour was expected since linear unit is less expressive than GRU and LSTM and we expected more complicated models with ability to utilize gates in memory outperform linear hidden unit given enough of training. same trend is seen for validation and test loss.\n",
        "\n",
        "on the other hand we can see that LSTM and GRU units perform similarly but GRU is slightly better. \n",
        "\n",
        "we know that GRU has fewer parameters(LSTM is more complicated) and needs less data for training and optimization .\n",
        "\n",
        "that's the reason why its performance is most of the time better or as good as LSTM  in training and validation and testing.\n",
        "\n"
      ]
    },
    {
      "cell_type": "markdown",
      "metadata": {
        "id": "TWQ_XQrfUfyf"
      },
      "source": [
        "The final versions of the scripts `in the Practical PyTorch\n",
        "repo <https://github.com/spro/practical-pytorch/tree/master/char-rnn-classification>`__\n",
        "split the above code into a few files:\n",
        "\n",
        "-  ``data.py`` (loads files)\n",
        "-  ``model.py`` (defines the RNN)\n",
        "-  ``train.py`` (runs training)\n",
        "-  ``predict.py`` (runs ``predict()`` with command line arguments)\n",
        "-  ``server.py`` (serve prediction as a JSON API with bottle.py)\n",
        "\n",
        "Run ``train.py`` to train and save the network.\n",
        "\n",
        "Run ``predict.py`` with a name to view predictions:\n",
        "\n",
        "::\n",
        "\n",
        "    $ python predict.py Hazaki\n",
        "    (-0.42) Japanese\n",
        "    (-1.39) Polish\n",
        "    (-3.51) Czech\n",
        "\n",
        "Run ``server.py`` and visit http://localhost:5533/Yourname to get JSON\n",
        "output of predictions.\n",
        "\n",
        "\n"
      ]
    },
    {
      "cell_type": "markdown",
      "metadata": {
        "id": "-BX4vuLxUfyg"
      },
      "source": [
        "Exercises\n",
        "=========\n",
        "\n",
        "-  Try with a different dataset of line -> category, for example:\n",
        "\n",
        "   -  Any word -> language\n",
        "   -  First name -> gender\n",
        "   -  Character name -> writer\n",
        "   -  Page title -> blog or subreddit\n",
        "\n",
        "-  Get better results with a bigger and/or better shaped network\n",
        "\n",
        "   -  Add more linear layers\n",
        "   -  Try the ``nn.LSTM`` and ``nn.GRU`` layers\n",
        "   -  Combine multiple of these RNNs as a higher level network\n",
        "\n",
        "\n"
      ]
    }
  ]
}